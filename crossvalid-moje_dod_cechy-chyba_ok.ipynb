{
 "cells": [
  {
   "cell_type": "code",
   "execution_count": 219,
   "id": "9831f7b6",
   "metadata": {},
   "outputs": [],
   "source": [
    "import pandas as pd\n",
    "import numpy as np\n",
    "\n",
    "from sklearn.model_selection import KFold\n",
    "from sklearn.metrics import mean_squared_error\n",
    "import xgboost as xgb"
   ]
  },
  {
   "cell_type": "code",
   "execution_count": 220,
   "id": "4b99979e",
   "metadata": {},
   "outputs": [],
   "source": [
    "train_df = pd.read_csv(\"training.csv\", sep=\"\\t\")\n",
    "valid_df = pd.read_csv(\"validation.csv\", sep=\"\\t\")"
   ]
  },
  {
   "cell_type": "code",
   "execution_count": 221,
   "id": "0627698e",
   "metadata": {},
   "outputs": [
    {
     "data": {
      "text/html": [
       "<div>\n",
       "<style scoped>\n",
       "    .dataframe tbody tr th:only-of-type {\n",
       "        vertical-align: middle;\n",
       "    }\n",
       "\n",
       "    .dataframe tbody tr th {\n",
       "        vertical-align: top;\n",
       "    }\n",
       "\n",
       "    .dataframe thead th {\n",
       "        text-align: right;\n",
       "    }\n",
       "</style>\n",
       "<table border=\"1\" class=\"dataframe\">\n",
       "  <thead>\n",
       "    <tr style=\"text-align: right;\">\n",
       "      <th></th>\n",
       "      <th>DepartureDate</th>\n",
       "      <th>DepartureYear</th>\n",
       "      <th>DepartureMonth</th>\n",
       "      <th>DepartureDay</th>\n",
       "      <th>FlightNumber</th>\n",
       "      <th>DepartureAirport</th>\n",
       "      <th>ArrivalAirport</th>\n",
       "      <th>Route</th>\n",
       "      <th>ActualFlightTime</th>\n",
       "      <th>ActualTotalFuel</th>\n",
       "      <th>ActualTOW</th>\n",
       "      <th>FLownPassengers</th>\n",
       "      <th>BagsCount</th>\n",
       "      <th>FlightBagsWeight</th>\n",
       "    </tr>\n",
       "  </thead>\n",
       "  <tbody>\n",
       "    <tr>\n",
       "      <th>0</th>\n",
       "      <td>01/10/2016</td>\n",
       "      <td>2016</td>\n",
       "      <td>10</td>\n",
       "      <td>1</td>\n",
       "      <td>1145</td>\n",
       "      <td>MAN</td>\n",
       "      <td>SXF</td>\n",
       "      <td>MAN-SXF</td>\n",
       "      <td>91</td>\n",
       "      <td>3660</td>\n",
       "      <td>64016</td>\n",
       "      <td>175</td>\n",
       "      <td>61</td>\n",
       "      <td>440</td>\n",
       "    </tr>\n",
       "    <tr>\n",
       "      <th>1</th>\n",
       "      <td>01/10/2016</td>\n",
       "      <td>2016</td>\n",
       "      <td>10</td>\n",
       "      <td>1</td>\n",
       "      <td>1160</td>\n",
       "      <td>CTA</td>\n",
       "      <td>FCO</td>\n",
       "      <td>CTA-FCO</td>\n",
       "      <td>68</td>\n",
       "      <td>3280</td>\n",
       "      <td>66138</td>\n",
       "      <td>182</td>\n",
       "      <td>27</td>\n",
       "      <td>350</td>\n",
       "    </tr>\n",
       "    <tr>\n",
       "      <th>2</th>\n",
       "      <td>01/10/2016</td>\n",
       "      <td>2016</td>\n",
       "      <td>10</td>\n",
       "      <td>1</td>\n",
       "      <td>1183</td>\n",
       "      <td>LGW</td>\n",
       "      <td>SNN</td>\n",
       "      <td>LGW-SNN</td>\n",
       "      <td>64</td>\n",
       "      <td>2720</td>\n",
       "      <td>58447</td>\n",
       "      <td>127</td>\n",
       "      <td>(null)</td>\n",
       "      <td>(null)</td>\n",
       "    </tr>\n",
       "    <tr>\n",
       "      <th>3</th>\n",
       "      <td>01/10/2016</td>\n",
       "      <td>2016</td>\n",
       "      <td>10</td>\n",
       "      <td>1</td>\n",
       "      <td>1220</td>\n",
       "      <td>ATH</td>\n",
       "      <td>CHQ</td>\n",
       "      <td>ATH-CHQ</td>\n",
       "      <td>35</td>\n",
       "      <td>1682</td>\n",
       "      <td>60587</td>\n",
       "      <td>163</td>\n",
       "      <td>12</td>\n",
       "      <td>150</td>\n",
       "    </tr>\n",
       "    <tr>\n",
       "      <th>4</th>\n",
       "      <td>01/10/2016</td>\n",
       "      <td>2016</td>\n",
       "      <td>10</td>\n",
       "      <td>1</td>\n",
       "      <td>1225</td>\n",
       "      <td>CHQ</td>\n",
       "      <td>ATH</td>\n",
       "      <td>CHQ-ATH</td>\n",
       "      <td>34</td>\n",
       "      <td>1877</td>\n",
       "      <td>63090</td>\n",
       "      <td>178</td>\n",
       "      <td>37</td>\n",
       "      <td>490</td>\n",
       "    </tr>\n",
       "  </tbody>\n",
       "</table>\n",
       "</div>"
      ],
      "text/plain": [
       "  DepartureDate  DepartureYear  DepartureMonth  DepartureDay  FlightNumber  \\\n",
       "0    01/10/2016           2016              10             1          1145   \n",
       "1    01/10/2016           2016              10             1          1160   \n",
       "2    01/10/2016           2016              10             1          1183   \n",
       "3    01/10/2016           2016              10             1          1220   \n",
       "4    01/10/2016           2016              10             1          1225   \n",
       "\n",
       "  DepartureAirport ArrivalAirport    Route  ActualFlightTime  ActualTotalFuel  \\\n",
       "0              MAN            SXF  MAN-SXF                91             3660   \n",
       "1              CTA            FCO  CTA-FCO                68             3280   \n",
       "2              LGW            SNN  LGW-SNN                64             2720   \n",
       "3              ATH            CHQ  ATH-CHQ                35             1682   \n",
       "4              CHQ            ATH  CHQ-ATH                34             1877   \n",
       "\n",
       "  ActualTOW FLownPassengers BagsCount FlightBagsWeight  \n",
       "0     64016             175        61              440  \n",
       "1     66138             182        27              350  \n",
       "2     58447             127    (null)           (null)  \n",
       "3     60587             163        12              150  \n",
       "4     63090             178        37              490  "
      ]
     },
     "execution_count": 221,
     "metadata": {},
     "output_type": "execute_result"
    }
   ],
   "source": [
    "train_df.head()"
   ]
  },
  {
   "cell_type": "code",
   "execution_count": 222,
   "id": "66da86ad",
   "metadata": {},
   "outputs": [
    {
     "data": {
      "text/html": [
       "<div>\n",
       "<style scoped>\n",
       "    .dataframe tbody tr th:only-of-type {\n",
       "        vertical-align: middle;\n",
       "    }\n",
       "\n",
       "    .dataframe tbody tr th {\n",
       "        vertical-align: top;\n",
       "    }\n",
       "\n",
       "    .dataframe thead th {\n",
       "        text-align: right;\n",
       "    }\n",
       "</style>\n",
       "<table border=\"1\" class=\"dataframe\">\n",
       "  <thead>\n",
       "    <tr style=\"text-align: right;\">\n",
       "      <th></th>\n",
       "      <th>DepartureDate</th>\n",
       "      <th>DepartureYear</th>\n",
       "      <th>DepartureMonth</th>\n",
       "      <th>DepartureDay</th>\n",
       "      <th>FlightNumber</th>\n",
       "      <th>DepartureAirport</th>\n",
       "      <th>ArrivalAirport</th>\n",
       "      <th>Route</th>\n",
       "      <th>ActualFlightTime</th>\n",
       "      <th>ActualTotalFuel</th>\n",
       "      <th>FLownPassengers</th>\n",
       "      <th>BagsCount</th>\n",
       "      <th>FlightBagsWeight</th>\n",
       "    </tr>\n",
       "  </thead>\n",
       "  <tbody>\n",
       "    <tr>\n",
       "      <th>0</th>\n",
       "      <td>01/11/2016</td>\n",
       "      <td>2016</td>\n",
       "      <td>11</td>\n",
       "      <td>1</td>\n",
       "      <td>6003</td>\n",
       "      <td>MRS</td>\n",
       "      <td>BES</td>\n",
       "      <td>MRS-BES</td>\n",
       "      <td>84</td>\n",
       "      <td>3630</td>\n",
       "      <td>185</td>\n",
       "      <td>43</td>\n",
       "      <td>560</td>\n",
       "    </tr>\n",
       "    <tr>\n",
       "      <th>1</th>\n",
       "      <td>01/11/2016</td>\n",
       "      <td>2016</td>\n",
       "      <td>11</td>\n",
       "      <td>1</td>\n",
       "      <td>6004</td>\n",
       "      <td>BES</td>\n",
       "      <td>MRS</td>\n",
       "      <td>BES-MRS</td>\n",
       "      <td>86</td>\n",
       "      <td>3690</td>\n",
       "      <td>188</td>\n",
       "      <td>(null)</td>\n",
       "      <td>(null)</td>\n",
       "    </tr>\n",
       "    <tr>\n",
       "      <th>2</th>\n",
       "      <td>01/11/2016</td>\n",
       "      <td>2016</td>\n",
       "      <td>11</td>\n",
       "      <td>1</td>\n",
       "      <td>6542</td>\n",
       "      <td>MRS</td>\n",
       "      <td>STN</td>\n",
       "      <td>MRS-STN</td>\n",
       "      <td>100</td>\n",
       "      <td>4390</td>\n",
       "      <td>168</td>\n",
       "      <td>55</td>\n",
       "      <td>720</td>\n",
       "    </tr>\n",
       "    <tr>\n",
       "      <th>3</th>\n",
       "      <td>01/11/2016</td>\n",
       "      <td>2016</td>\n",
       "      <td>11</td>\n",
       "      <td>1</td>\n",
       "      <td>6541</td>\n",
       "      <td>STN</td>\n",
       "      <td>MRS</td>\n",
       "      <td>STN-MRS</td>\n",
       "      <td>100</td>\n",
       "      <td>4690</td>\n",
       "      <td>185</td>\n",
       "      <td>35</td>\n",
       "      <td>460</td>\n",
       "    </tr>\n",
       "    <tr>\n",
       "      <th>4</th>\n",
       "      <td>01/11/2016</td>\n",
       "      <td>2016</td>\n",
       "      <td>11</td>\n",
       "      <td>1</td>\n",
       "      <td>5542</td>\n",
       "      <td>STN</td>\n",
       "      <td>REU</td>\n",
       "      <td>STN-REU</td>\n",
       "      <td>112</td>\n",
       "      <td>4900</td>\n",
       "      <td>167</td>\n",
       "      <td>31</td>\n",
       "      <td>400</td>\n",
       "    </tr>\n",
       "  </tbody>\n",
       "</table>\n",
       "</div>"
      ],
      "text/plain": [
       "  DepartureDate  DepartureYear  DepartureMonth  DepartureDay  FlightNumber  \\\n",
       "0    01/11/2016           2016              11             1          6003   \n",
       "1    01/11/2016           2016              11             1          6004   \n",
       "2    01/11/2016           2016              11             1          6542   \n",
       "3    01/11/2016           2016              11             1          6541   \n",
       "4    01/11/2016           2016              11             1          5542   \n",
       "\n",
       "  DepartureAirport ArrivalAirport    Route  ActualFlightTime  ActualTotalFuel  \\\n",
       "0              MRS            BES  MRS-BES                84             3630   \n",
       "1              BES            MRS  BES-MRS                86             3690   \n",
       "2              MRS            STN  MRS-STN               100             4390   \n",
       "3              STN            MRS  STN-MRS               100             4690   \n",
       "4              STN            REU  STN-REU               112             4900   \n",
       "\n",
       "  FLownPassengers BagsCount FlightBagsWeight  \n",
       "0             185        43              560  \n",
       "1             188    (null)           (null)  \n",
       "2             168        55              720  \n",
       "3             185        35              460  \n",
       "4             167        31              400  "
      ]
     },
     "execution_count": 222,
     "metadata": {},
     "output_type": "execute_result"
    }
   ],
   "source": [
    "valid_df.head()"
   ]
  },
  {
   "cell_type": "code",
   "execution_count": 223,
   "id": "3d760d02",
   "metadata": {},
   "outputs": [
    {
     "name": "stdout",
     "output_type": "stream",
     "text": [
      "Training data: 29731\n",
      "Validation data: 1878\n"
     ]
    }
   ],
   "source": [
    "print(f\"Training data: {len(train_df)}\")\n",
    "print(f\"Validation data: {len(valid_df)}\")"
   ]
  },
  {
   "cell_type": "code",
   "execution_count": 224,
   "id": "489fbf0f",
   "metadata": {},
   "outputs": [
    {
     "name": "stdout",
     "output_type": "stream",
     "text": [
      "Index(['DepartureDate', 'DepartureYear', 'DepartureMonth', 'DepartureDay',\n",
      "       'FlightNumber', 'DepartureAirport', 'ArrivalAirport', 'Route',\n",
      "       'ActualFlightTime', 'ActualTotalFuel', 'ActualTOW', 'FLownPassengers',\n",
      "       'BagsCount', 'FlightBagsWeight'],\n",
      "      dtype='object')\n"
     ]
    }
   ],
   "source": [
    "print(train_df.columns)"
   ]
  },
  {
   "cell_type": "code",
   "execution_count": 225,
   "id": "0ef4b81a",
   "metadata": {},
   "outputs": [],
   "source": [
    "train_df.rename(columns={'FLownPassengers': 'FlownPassengers'}, inplace=True)"
   ]
  },
  {
   "cell_type": "code",
   "execution_count": 226,
   "id": "e82bc4af",
   "metadata": {},
   "outputs": [
    {
     "name": "stdout",
     "output_type": "stream",
     "text": [
      "Index(['DepartureDate', 'DepartureYear', 'DepartureMonth', 'DepartureDay',\n",
      "       'FlightNumber', 'DepartureAirport', 'ArrivalAirport', 'Route',\n",
      "       'ActualFlightTime', 'ActualTotalFuel', 'FLownPassengers', 'BagsCount',\n",
      "       'FlightBagsWeight'],\n",
      "      dtype='object')\n"
     ]
    }
   ],
   "source": [
    "print(valid_df.columns)"
   ]
  },
  {
   "cell_type": "code",
   "execution_count": 227,
   "id": "c581a758",
   "metadata": {},
   "outputs": [],
   "source": [
    "valid_df.rename(columns={'FLownPassengers': 'FlownPassengers'}, inplace=True)"
   ]
  },
  {
   "cell_type": "code",
   "execution_count": 228,
   "id": "ad2a39c0",
   "metadata": {},
   "outputs": [
    {
     "name": "stdout",
     "output_type": "stream",
     "text": [
      "<class 'pandas.core.frame.DataFrame'>\n",
      "RangeIndex: 29731 entries, 0 to 29730\n",
      "Data columns (total 14 columns):\n",
      " #   Column            Non-Null Count  Dtype \n",
      "---  ------            --------------  ----- \n",
      " 0   DepartureDate     29731 non-null  object\n",
      " 1   DepartureYear     29731 non-null  int64 \n",
      " 2   DepartureMonth    29731 non-null  int64 \n",
      " 3   DepartureDay      29731 non-null  int64 \n",
      " 4   FlightNumber      29731 non-null  int64 \n",
      " 5   DepartureAirport  29731 non-null  object\n",
      " 6   ArrivalAirport    29731 non-null  object\n",
      " 7   Route             29731 non-null  object\n",
      " 8   ActualFlightTime  29731 non-null  int64 \n",
      " 9   ActualTotalFuel   29731 non-null  int64 \n",
      " 10  ActualTOW         29731 non-null  object\n",
      " 11  FlownPassengers   29731 non-null  object\n",
      " 12  BagsCount         29731 non-null  object\n",
      " 13  FlightBagsWeight  29731 non-null  object\n",
      "dtypes: int64(6), object(8)\n",
      "memory usage: 3.2+ MB\n",
      "None\n"
     ]
    }
   ],
   "source": [
    "print(train_df.info())"
   ]
  },
  {
   "cell_type": "code",
   "execution_count": 229,
   "id": "7c4bb535",
   "metadata": {},
   "outputs": [],
   "source": [
    "numeric_columns = ['ActualFlightTime', 'ActualTotalFuel', 'ActualTOW',\n",
    "                   'FlownPassengers', 'BagsCount', 'FlightBagsWeight']\n",
    "\n",
    "for col in numeric_columns:\n",
    "    if col in train_df.columns:\n",
    "        train_df[col] = pd.to_numeric(train_df[col], errors='coerce')"
   ]
  },
  {
   "cell_type": "code",
   "execution_count": 230,
   "id": "3f5fe1dc",
   "metadata": {},
   "outputs": [
    {
     "name": "stdout",
     "output_type": "stream",
     "text": [
      "<class 'pandas.core.frame.DataFrame'>\n",
      "RangeIndex: 29731 entries, 0 to 29730\n",
      "Data columns (total 14 columns):\n",
      " #   Column            Non-Null Count  Dtype  \n",
      "---  ------            --------------  -----  \n",
      " 0   DepartureDate     29731 non-null  object \n",
      " 1   DepartureYear     29731 non-null  int64  \n",
      " 2   DepartureMonth    29731 non-null  int64  \n",
      " 3   DepartureDay      29731 non-null  int64  \n",
      " 4   FlightNumber      29731 non-null  int64  \n",
      " 5   DepartureAirport  29731 non-null  object \n",
      " 6   ArrivalAirport    29731 non-null  object \n",
      " 7   Route             29731 non-null  object \n",
      " 8   ActualFlightTime  29731 non-null  int64  \n",
      " 9   ActualTotalFuel   29731 non-null  int64  \n",
      " 10  ActualTOW         29298 non-null  float64\n",
      " 11  FlownPassengers   29636 non-null  float64\n",
      " 12  BagsCount         27447 non-null  float64\n",
      " 13  FlightBagsWeight  27253 non-null  float64\n",
      "dtypes: float64(4), int64(6), object(4)\n",
      "memory usage: 3.2+ MB\n",
      "None\n"
     ]
    }
   ],
   "source": [
    "print(train_df.info())"
   ]
  },
  {
   "cell_type": "code",
   "execution_count": 231,
   "id": "ddca3f5b",
   "metadata": {},
   "outputs": [],
   "source": [
    "# Konwersja daty\n",
    "train_df[\"DepartureDate\"] = pd.to_datetime(train_df[\"DepartureDate\"], format=\"%d/%m/%Y\")\n",
    "train_df[\"DayOfWeek\"] = train_df[\"DepartureDate\"].dt.weekday\n",
    "\n",
    "# Inżynieria cech\n",
    "train_df[\"FuelPerMinute\"] = train_df[\"ActualTotalFuel\"] / train_df[\"ActualFlightTime\"]\n",
    "train_df[\"PassengersPerBag\"] = train_df[\"FlownPassengers\"] / train_df[\"BagsCount\"]"
   ]
  },
  {
   "cell_type": "code",
   "execution_count": 232,
   "id": "2fb030aa",
   "metadata": {},
   "outputs": [
    {
     "name": "stdout",
     "output_type": "stream",
     "text": [
      "Missing rows: 2931\n",
      "Full rows: 26800\n"
     ]
    }
   ],
   "source": [
    "n_missing_rows = train_df.isnull().any(axis=1).sum()\n",
    "n_complete_rows = train_df.shape[0] - n_missing_rows\n",
    "\n",
    "print(f\"Missing rows: {n_missing_rows}\")\n",
    "print(f\"Full rows: {n_complete_rows}\")"
   ]
  },
  {
   "cell_type": "code",
   "execution_count": 233,
   "id": "8e8263bb",
   "metadata": {},
   "outputs": [
    {
     "name": "stdout",
     "output_type": "stream",
     "text": [
      "DepartureDate          0\n",
      "DepartureYear          0\n",
      "DepartureMonth         0\n",
      "DepartureDay           0\n",
      "FlightNumber           0\n",
      "DepartureAirport       0\n",
      "ArrivalAirport         0\n",
      "Route                  0\n",
      "ActualFlightTime       0\n",
      "ActualTotalFuel        0\n",
      "ActualTOW            433\n",
      "FlownPassengers       95\n",
      "BagsCount           2284\n",
      "FlightBagsWeight    2478\n",
      "DayOfWeek              0\n",
      "FuelPerMinute          0\n",
      "PassengersPerBag    2284\n",
      "dtype: int64\n"
     ]
    }
   ],
   "source": [
    "print(train_df.isna().sum())"
   ]
  },
  {
   "cell_type": "code",
   "execution_count": 234,
   "id": "6e62c246",
   "metadata": {},
   "outputs": [],
   "source": [
    "train_df = train_df.dropna()"
   ]
  },
  {
   "cell_type": "code",
   "execution_count": 235,
   "id": "c19dca92",
   "metadata": {},
   "outputs": [
    {
     "name": "stdout",
     "output_type": "stream",
     "text": [
      "DepartureDate       0\n",
      "DepartureYear       0\n",
      "DepartureMonth      0\n",
      "DepartureDay        0\n",
      "FlightNumber        0\n",
      "DepartureAirport    0\n",
      "ArrivalAirport      0\n",
      "Route               0\n",
      "ActualFlightTime    0\n",
      "ActualTotalFuel     0\n",
      "ActualTOW           0\n",
      "FlownPassengers     0\n",
      "BagsCount           0\n",
      "FlightBagsWeight    0\n",
      "DayOfWeek           0\n",
      "FuelPerMinute       0\n",
      "PassengersPerBag    0\n",
      "dtype: int64\n"
     ]
    }
   ],
   "source": [
    "print(train_df.isna().sum())"
   ]
  },
  {
   "cell_type": "code",
   "execution_count": 236,
   "id": "1941df49",
   "metadata": {},
   "outputs": [
    {
     "name": "stdout",
     "output_type": "stream",
     "text": [
      "<class 'pandas.core.frame.DataFrame'>\n",
      "Index: 26800 entries, 0 to 29730\n",
      "Data columns (total 17 columns):\n",
      " #   Column            Non-Null Count  Dtype         \n",
      "---  ------            --------------  -----         \n",
      " 0   DepartureDate     26800 non-null  datetime64[ns]\n",
      " 1   DepartureYear     26800 non-null  int64         \n",
      " 2   DepartureMonth    26800 non-null  int64         \n",
      " 3   DepartureDay      26800 non-null  int64         \n",
      " 4   FlightNumber      26800 non-null  int64         \n",
      " 5   DepartureAirport  26800 non-null  object        \n",
      " 6   ArrivalAirport    26800 non-null  object        \n",
      " 7   Route             26800 non-null  object        \n",
      " 8   ActualFlightTime  26800 non-null  int64         \n",
      " 9   ActualTotalFuel   26800 non-null  int64         \n",
      " 10  ActualTOW         26800 non-null  float64       \n",
      " 11  FlownPassengers   26800 non-null  float64       \n",
      " 12  BagsCount         26800 non-null  float64       \n",
      " 13  FlightBagsWeight  26800 non-null  float64       \n",
      " 14  DayOfWeek         26800 non-null  int32         \n",
      " 15  FuelPerMinute     26800 non-null  float64       \n",
      " 16  PassengersPerBag  26800 non-null  float64       \n",
      "dtypes: datetime64[ns](1), float64(6), int32(1), int64(6), object(3)\n",
      "memory usage: 3.6+ MB\n",
      "None\n"
     ]
    }
   ],
   "source": [
    "print(train_df.info())"
   ]
  },
  {
   "cell_type": "code",
   "execution_count": 237,
   "id": "b5cdafa7",
   "metadata": {},
   "outputs": [],
   "source": [
    "train_df.drop(columns=[\"DepartureDate\"], inplace=True)"
   ]
  },
  {
   "cell_type": "code",
   "execution_count": 238,
   "id": "9b1e1606",
   "metadata": {},
   "outputs": [
    {
     "name": "stderr",
     "output_type": "stream",
     "text": [
      "[I 2025-05-28 23:40:05,175] A new study created in memory with name: no-name-23441133-ddbf-414c-8b9a-c8b0f3a1d221\n",
      "[I 2025-05-28 23:40:13,631] Trial 0 finished with value: 866821.6000431341 and parameters: {'use_DepartureYear': False, 'use_DepartureMonth': True, 'use_DepartureDay': True, 'use_FlightNumber': False, 'use_DepartureAirport': True, 'use_ArrivalAirport': False, 'use_Route': False, 'use_ActualFlightTime': False, 'use_ActualTotalFuel': True, 'use_FlownPassengers': True, 'use_BagsCount': True, 'use_FlightBagsWeight': True, 'use_DayOfWeek': True, 'use_FuelPerMinute': True, 'use_PassengersPerBag': True, 'n_estimators': 108, 'max_depth': 10, 'learning_rate': 0.1944708296363903, 'subsample': 0.8844808174428412, 'colsample_bytree': 0.9283070067843833, 'gamma': 3.4846593425534342, 'reg_alpha': 3.6792253641522654, 'reg_lambda': 2.385180850211572}. Best is trial 0 with value: 866821.6000431341.\n",
      "[I 2025-05-28 23:40:17,997] Trial 1 finished with value: 2013166.5517884206 and parameters: {'use_DepartureYear': True, 'use_DepartureMonth': True, 'use_DepartureDay': False, 'use_FlightNumber': False, 'use_DepartureAirport': False, 'use_ArrivalAirport': False, 'use_Route': True, 'use_ActualFlightTime': False, 'use_ActualTotalFuel': True, 'use_FlownPassengers': False, 'use_BagsCount': False, 'use_FlightBagsWeight': False, 'use_DayOfWeek': True, 'use_FuelPerMinute': False, 'use_PassengersPerBag': False, 'n_estimators': 102, 'max_depth': 5, 'learning_rate': 0.1109301571078648, 'subsample': 0.6782025135403482, 'colsample_bytree': 0.8967162326134099, 'gamma': 2.886506085307776, 'reg_alpha': 2.089373656637041, 'reg_lambda': 2.0840524047723035}. Best is trial 0 with value: 866821.6000431341.\n",
      "[I 2025-05-28 23:40:22,647] Trial 2 finished with value: 2953197.751632839 and parameters: {'use_DepartureYear': True, 'use_DepartureMonth': True, 'use_DepartureDay': True, 'use_FlightNumber': False, 'use_DepartureAirport': False, 'use_ArrivalAirport': True, 'use_Route': True, 'use_ActualFlightTime': False, 'use_ActualTotalFuel': False, 'use_FlownPassengers': False, 'use_BagsCount': False, 'use_FlightBagsWeight': False, 'use_DayOfWeek': True, 'use_FuelPerMinute': True, 'use_PassengersPerBag': True, 'n_estimators': 178, 'max_depth': 3, 'learning_rate': 0.03169404655994242, 'subsample': 0.9076041346458036, 'colsample_bytree': 0.6229710323162387, 'gamma': 1.0775407714503409, 'reg_alpha': 1.1199429276287176, 'reg_lambda': 2.2238512645649617}. Best is trial 0 with value: 866821.6000431341.\n",
      "[I 2025-05-28 23:40:53,482] Trial 3 finished with value: 1026852.0940125759 and parameters: {'use_DepartureYear': False, 'use_DepartureMonth': False, 'use_DepartureDay': True, 'use_FlightNumber': False, 'use_DepartureAirport': True, 'use_ArrivalAirport': True, 'use_Route': True, 'use_ActualFlightTime': False, 'use_ActualTotalFuel': True, 'use_FlownPassengers': False, 'use_BagsCount': True, 'use_FlightBagsWeight': True, 'use_DayOfWeek': True, 'use_FuelPerMinute': True, 'use_PassengersPerBag': True, 'n_estimators': 372, 'max_depth': 6, 'learning_rate': 0.10250726463625916, 'subsample': 0.6512129753154574, 'colsample_bytree': 0.8240826582015799, 'gamma': 1.2328441696104198, 'reg_alpha': 1.716014182409451, 'reg_lambda': 1.7512892660295916}. Best is trial 0 with value: 866821.6000431341.\n",
      "[I 2025-05-28 23:41:13,680] Trial 4 finished with value: 2164629.2877411684 and parameters: {'use_DepartureYear': False, 'use_DepartureMonth': True, 'use_DepartureDay': True, 'use_FlightNumber': False, 'use_DepartureAirport': False, 'use_ArrivalAirport': True, 'use_Route': True, 'use_ActualFlightTime': True, 'use_ActualTotalFuel': False, 'use_FlownPassengers': False, 'use_BagsCount': False, 'use_FlightBagsWeight': False, 'use_DayOfWeek': True, 'use_FuelPerMinute': False, 'use_PassengersPerBag': False, 'n_estimators': 404, 'max_depth': 5, 'learning_rate': 0.04445092997928421, 'subsample': 0.6737493928607505, 'colsample_bytree': 0.8005966522491864, 'gamma': 3.990816085739141, 'reg_alpha': 1.6118541881442687, 'reg_lambda': 4.027971831918916}. Best is trial 0 with value: 866821.6000431341.\n",
      "[I 2025-05-28 23:41:20,956] Trial 5 finished with value: 2251761.3622890534 and parameters: {'use_DepartureYear': True, 'use_DepartureMonth': False, 'use_DepartureDay': False, 'use_FlightNumber': False, 'use_DepartureAirport': False, 'use_ArrivalAirport': True, 'use_Route': False, 'use_ActualFlightTime': False, 'use_ActualTotalFuel': True, 'use_FlownPassengers': False, 'use_BagsCount': False, 'use_FlightBagsWeight': False, 'use_DayOfWeek': True, 'use_FuelPerMinute': False, 'use_PassengersPerBag': True, 'n_estimators': 475, 'max_depth': 4, 'learning_rate': 0.10088343995662014, 'subsample': 0.6223687872096209, 'colsample_bytree': 0.742112068134043, 'gamma': 0.41161314227826706, 'reg_alpha': 4.732926664503805, 'reg_lambda': 1.6718275741559485}. Best is trial 0 with value: 866821.6000431341.\n",
      "[I 2025-05-28 23:42:30,029] Trial 6 finished with value: 1503342.9629825442 and parameters: {'use_DepartureYear': False, 'use_DepartureMonth': False, 'use_DepartureDay': False, 'use_FlightNumber': True, 'use_DepartureAirport': True, 'use_ArrivalAirport': True, 'use_Route': True, 'use_ActualFlightTime': True, 'use_ActualTotalFuel': True, 'use_FlownPassengers': False, 'use_BagsCount': True, 'use_FlightBagsWeight': False, 'use_DayOfWeek': True, 'use_FuelPerMinute': False, 'use_PassengersPerBag': False, 'n_estimators': 374, 'max_depth': 9, 'learning_rate': 0.09179492061265618, 'subsample': 0.8345482004379344, 'colsample_bytree': 0.7752724481979596, 'gamma': 3.4553532484239486, 'reg_alpha': 3.214369821432652, 'reg_lambda': 3.0250707928046943}. Best is trial 0 with value: 866821.6000431341.\n",
      "[I 2025-05-28 23:43:50,753] Trial 7 finished with value: 865437.3288663209 and parameters: {'use_DepartureYear': True, 'use_DepartureMonth': False, 'use_DepartureDay': False, 'use_FlightNumber': False, 'use_DepartureAirport': True, 'use_ArrivalAirport': False, 'use_Route': True, 'use_ActualFlightTime': False, 'use_ActualTotalFuel': True, 'use_FlownPassengers': True, 'use_BagsCount': False, 'use_FlightBagsWeight': True, 'use_DayOfWeek': True, 'use_FuelPerMinute': True, 'use_PassengersPerBag': True, 'n_estimators': 383, 'max_depth': 9, 'learning_rate': 0.1647160042164809, 'subsample': 0.7896063806332447, 'colsample_bytree': 0.9798676328166558, 'gamma': 4.148578327576612, 'reg_alpha': 2.592367876550166, 'reg_lambda': 2.3221291026824846}. Best is trial 7 with value: 865437.3288663209.\n",
      "[I 2025-05-28 23:44:10,634] Trial 8 finished with value: 902238.5029501183 and parameters: {'use_DepartureYear': False, 'use_DepartureMonth': True, 'use_DepartureDay': False, 'use_FlightNumber': False, 'use_DepartureAirport': True, 'use_ArrivalAirport': False, 'use_Route': False, 'use_ActualFlightTime': True, 'use_ActualTotalFuel': True, 'use_FlownPassengers': False, 'use_BagsCount': True, 'use_FlightBagsWeight': True, 'use_DayOfWeek': False, 'use_FuelPerMinute': True, 'use_PassengersPerBag': True, 'n_estimators': 258, 'max_depth': 10, 'learning_rate': 0.06219288950338807, 'subsample': 0.6001258694845999, 'colsample_bytree': 0.7805050905894262, 'gamma': 0.3143541243350928, 'reg_alpha': 2.456460281741493, 'reg_lambda': 4.832976121480542}. Best is trial 7 with value: 865437.3288663209.\n",
      "[I 2025-05-28 23:44:33,764] Trial 9 finished with value: 1658963.3186000646 and parameters: {'use_DepartureYear': True, 'use_DepartureMonth': False, 'use_DepartureDay': False, 'use_FlightNumber': True, 'use_DepartureAirport': False, 'use_ArrivalAirport': True, 'use_Route': False, 'use_ActualFlightTime': False, 'use_ActualTotalFuel': True, 'use_FlownPassengers': False, 'use_BagsCount': False, 'use_FlightBagsWeight': False, 'use_DayOfWeek': True, 'use_FuelPerMinute': True, 'use_PassengersPerBag': False, 'n_estimators': 252, 'max_depth': 10, 'learning_rate': 0.016538555923719393, 'subsample': 0.9856960946959877, 'colsample_bytree': 0.8654188689045259, 'gamma': 1.9558573399661388, 'reg_alpha': 3.7264542061098256, 'reg_lambda': 3.1579575682521317}. Best is trial 7 with value: 865437.3288663209.\n",
      "[I 2025-05-28 23:45:47,760] Trial 10 finished with value: 774045.152139917 and parameters: {'use_DepartureYear': True, 'use_DepartureMonth': False, 'use_DepartureDay': False, 'use_FlightNumber': True, 'use_DepartureAirport': True, 'use_ArrivalAirport': False, 'use_Route': True, 'use_ActualFlightTime': True, 'use_ActualTotalFuel': False, 'use_FlownPassengers': True, 'use_BagsCount': False, 'use_FlightBagsWeight': True, 'use_DayOfWeek': False, 'use_FuelPerMinute': True, 'use_PassengersPerBag': True, 'n_estimators': 498, 'max_depth': 8, 'learning_rate': 0.17189397830026704, 'subsample': 0.7587708953547897, 'colsample_bytree': 0.999829432600664, 'gamma': 4.990429875450393, 'reg_alpha': 0.6575437316994337, 'reg_lambda': 0.5143946321720931}. Best is trial 10 with value: 774045.152139917.\n",
      "[I 2025-05-28 23:47:01,235] Trial 11 finished with value: 753872.8569326345 and parameters: {'use_DepartureYear': True, 'use_DepartureMonth': False, 'use_DepartureDay': False, 'use_FlightNumber': True, 'use_DepartureAirport': True, 'use_ArrivalAirport': False, 'use_Route': True, 'use_ActualFlightTime': True, 'use_ActualTotalFuel': False, 'use_FlownPassengers': True, 'use_BagsCount': False, 'use_FlightBagsWeight': True, 'use_DayOfWeek': False, 'use_FuelPerMinute': True, 'use_PassengersPerBag': True, 'n_estimators': 498, 'max_depth': 8, 'learning_rate': 0.17766461344141454, 'subsample': 0.7581276436124073, 'colsample_bytree': 0.9865544964066991, 'gamma': 4.98204110554617, 'reg_alpha': 0.24558499634665376, 'reg_lambda': 0.28828480764916037}. Best is trial 11 with value: 753872.8569326345.\n",
      "[I 2025-05-28 23:48:12,584] Trial 12 finished with value: 749991.9348032704 and parameters: {'use_DepartureYear': True, 'use_DepartureMonth': False, 'use_DepartureDay': False, 'use_FlightNumber': True, 'use_DepartureAirport': True, 'use_ArrivalAirport': False, 'use_Route': True, 'use_ActualFlightTime': True, 'use_ActualTotalFuel': False, 'use_FlownPassengers': True, 'use_BagsCount': False, 'use_FlightBagsWeight': True, 'use_DayOfWeek': False, 'use_FuelPerMinute': True, 'use_PassengersPerBag': True, 'n_estimators': 488, 'max_depth': 8, 'learning_rate': 0.15338775688946246, 'subsample': 0.7709261757665392, 'colsample_bytree': 0.9951308796651859, 'gamma': 4.977521865013945, 'reg_alpha': 0.05314125048355378, 'reg_lambda': 0.26461695471457825}. Best is trial 12 with value: 749991.9348032704.\n",
      "[I 2025-05-28 23:49:01,299] Trial 13 finished with value: 684216.7392826246 and parameters: {'use_DepartureYear': True, 'use_DepartureMonth': False, 'use_DepartureDay': False, 'use_FlightNumber': True, 'use_DepartureAirport': True, 'use_ArrivalAirport': False, 'use_Route': True, 'use_ActualFlightTime': True, 'use_ActualTotalFuel': False, 'use_FlownPassengers': True, 'use_BagsCount': False, 'use_FlightBagsWeight': True, 'use_DayOfWeek': False, 'use_FuelPerMinute': True, 'use_PassengersPerBag': True, 'n_estimators': 444, 'max_depth': 7, 'learning_rate': 0.14171832487195854, 'subsample': 0.7418741357473718, 'colsample_bytree': 0.9400864659327876, 'gamma': 4.975559398799807, 'reg_alpha': 0.06693610289720388, 'reg_lambda': 0.11052909875128969}. Best is trial 13 with value: 684216.7392826246.\n",
      "[I 2025-05-28 23:49:51,922] Trial 14 finished with value: 683386.576641266 and parameters: {'use_DepartureYear': True, 'use_DepartureMonth': False, 'use_DepartureDay': False, 'use_FlightNumber': True, 'use_DepartureAirport': True, 'use_ArrivalAirport': False, 'use_Route': True, 'use_ActualFlightTime': True, 'use_ActualTotalFuel': False, 'use_FlownPassengers': True, 'use_BagsCount': False, 'use_FlightBagsWeight': True, 'use_DayOfWeek': False, 'use_FuelPerMinute': True, 'use_PassengersPerBag': True, 'n_estimators': 442, 'max_depth': 7, 'learning_rate': 0.14037663588341098, 'subsample': 0.7215581490649988, 'colsample_bytree': 0.9318513063202841, 'gamma': 4.365309024942921, 'reg_alpha': 0.10578414970718228, 'reg_lambda': 1.0506726150705137}. Best is trial 14 with value: 683386.576641266.\n",
      "[I 2025-05-28 23:50:46,415] Trial 15 finished with value: 688372.4056736447 and parameters: {'use_DepartureYear': True, 'use_DepartureMonth': False, 'use_DepartureDay': False, 'use_FlightNumber': True, 'use_DepartureAirport': True, 'use_ArrivalAirport': False, 'use_Route': True, 'use_ActualFlightTime': True, 'use_ActualTotalFuel': False, 'use_FlownPassengers': True, 'use_BagsCount': False, 'use_FlightBagsWeight': True, 'use_DayOfWeek': False, 'use_FuelPerMinute': True, 'use_PassengersPerBag': True, 'n_estimators': 432, 'max_depth': 7, 'learning_rate': 0.1322715214431861, 'subsample': 0.7241274002557713, 'colsample_bytree': 0.9260544444957733, 'gamma': 4.207587096793757, 'reg_alpha': 1.1504183625663955, 'reg_lambda': 1.0634318538751948}. Best is trial 14 with value: 683386.576641266.\n",
      "[I 2025-05-28 23:51:13,401] Trial 16 finished with value: 619352.0195702345 and parameters: {'use_DepartureYear': True, 'use_DepartureMonth': False, 'use_DepartureDay': False, 'use_FlightNumber': True, 'use_DepartureAirport': True, 'use_ArrivalAirport': False, 'use_Route': True, 'use_ActualFlightTime': True, 'use_ActualTotalFuel': False, 'use_FlownPassengers': True, 'use_BagsCount': False, 'use_FlightBagsWeight': True, 'use_DayOfWeek': False, 'use_FuelPerMinute': True, 'use_PassengersPerBag': True, 'n_estimators': 322, 'max_depth': 6, 'learning_rate': 0.13714012227498545, 'subsample': 0.7100252438070067, 'colsample_bytree': 0.8619234161969839, 'gamma': 2.1956152228467034, 'reg_alpha': 0.7529986784207477, 'reg_lambda': 0.9689943944387984}. Best is trial 16 with value: 619352.0195702345.\n",
      "[I 2025-05-28 23:51:39,496] Trial 17 finished with value: 607029.5376756389 and parameters: {'use_DepartureYear': True, 'use_DepartureMonth': False, 'use_DepartureDay': False, 'use_FlightNumber': True, 'use_DepartureAirport': True, 'use_ArrivalAirport': False, 'use_Route': True, 'use_ActualFlightTime': True, 'use_ActualTotalFuel': False, 'use_FlownPassengers': True, 'use_BagsCount': False, 'use_FlightBagsWeight': True, 'use_DayOfWeek': False, 'use_FuelPerMinute': True, 'use_PassengersPerBag': True, 'n_estimators': 308, 'max_depth': 6, 'learning_rate': 0.12466797740385295, 'subsample': 0.6992191671146585, 'colsample_bytree': 0.8558504609496831, 'gamma': 2.300073620636099, 'reg_alpha': 0.902620743286993, 'reg_lambda': 1.153886416180328}. Best is trial 17 with value: 607029.5376756389.\n",
      "[I 2025-05-28 23:51:47,328] Trial 18 finished with value: 912064.982501613 and parameters: {'use_DepartureYear': True, 'use_DepartureMonth': False, 'use_DepartureDay': True, 'use_FlightNumber': True, 'use_DepartureAirport': True, 'use_ArrivalAirport': False, 'use_Route': False, 'use_ActualFlightTime': True, 'use_ActualTotalFuel': False, 'use_FlownPassengers': True, 'use_BagsCount': True, 'use_FlightBagsWeight': True, 'use_DayOfWeek': False, 'use_FuelPerMinute': False, 'use_PassengersPerBag': False, 'n_estimators': 313, 'max_depth': 5, 'learning_rate': 0.07561077203270926, 'subsample': 0.8411458982009343, 'colsample_bytree': 0.7060837015238235, 'gamma': 2.169668842272319, 'reg_alpha': 1.0183546243334123, 'reg_lambda': 1.1619411008815046}. Best is trial 17 with value: 607029.5376756389.\n",
      "[I 2025-05-28 23:52:14,572] Trial 19 finished with value: 617958.2416113873 and parameters: {'use_DepartureYear': True, 'use_DepartureMonth': False, 'use_DepartureDay': False, 'use_FlightNumber': True, 'use_DepartureAirport': True, 'use_ArrivalAirport': False, 'use_Route': True, 'use_ActualFlightTime': True, 'use_ActualTotalFuel': False, 'use_FlownPassengers': True, 'use_BagsCount': False, 'use_FlightBagsWeight': True, 'use_DayOfWeek': False, 'use_FuelPerMinute': True, 'use_PassengersPerBag': True, 'n_estimators': 313, 'max_depth': 6, 'learning_rate': 0.12507127981141464, 'subsample': 0.6922599623662122, 'colsample_bytree': 0.8478831690791073, 'gamma': 2.579889712488901, 'reg_alpha': 0.7018054476967386, 'reg_lambda': 0.8167264564600547}. Best is trial 17 with value: 607029.5376756389.\n",
      "[I 2025-05-28 23:52:26,508] Trial 20 finished with value: 528387.5563731686 and parameters: {'use_DepartureYear': True, 'use_DepartureMonth': False, 'use_DepartureDay': False, 'use_FlightNumber': True, 'use_DepartureAirport': True, 'use_ArrivalAirport': False, 'use_Route': True, 'use_ActualFlightTime': True, 'use_ActualTotalFuel': False, 'use_FlownPassengers': True, 'use_BagsCount': False, 'use_FlightBagsWeight': True, 'use_DayOfWeek': False, 'use_FuelPerMinute': True, 'use_PassengersPerBag': True, 'n_estimators': 253, 'max_depth': 4, 'learning_rate': 0.11621395535015985, 'subsample': 0.6469728515816715, 'colsample_bytree': 0.690381230657499, 'gamma': 2.751123609737369, 'reg_alpha': 1.6501028401254845, 'reg_lambda': 1.568012644951044}. Best is trial 20 with value: 528387.5563731686.\n",
      "[I 2025-05-28 23:52:36,074] Trial 21 finished with value: 524440.1801234221 and parameters: {'use_DepartureYear': True, 'use_DepartureMonth': False, 'use_DepartureDay': False, 'use_FlightNumber': True, 'use_DepartureAirport': True, 'use_ArrivalAirport': False, 'use_Route': True, 'use_ActualFlightTime': True, 'use_ActualTotalFuel': False, 'use_FlownPassengers': True, 'use_BagsCount': False, 'use_FlightBagsWeight': True, 'use_DayOfWeek': False, 'use_FuelPerMinute': True, 'use_PassengersPerBag': True, 'n_estimators': 259, 'max_depth': 3, 'learning_rate': 0.12267463221312436, 'subsample': 0.6504412700835225, 'colsample_bytree': 0.6565928937599588, 'gamma': 2.74951571462188, 'reg_alpha': 1.5972746708629686, 'reg_lambda': 1.4986585554070104}. Best is trial 21 with value: 524440.1801234221.\n",
      "[I 2025-05-28 23:52:44,721] Trial 22 finished with value: 523604.79071315593 and parameters: {'use_DepartureYear': True, 'use_DepartureMonth': False, 'use_DepartureDay': False, 'use_FlightNumber': True, 'use_DepartureAirport': True, 'use_ArrivalAirport': False, 'use_Route': True, 'use_ActualFlightTime': True, 'use_ActualTotalFuel': False, 'use_FlownPassengers': True, 'use_BagsCount': False, 'use_FlightBagsWeight': True, 'use_DayOfWeek': False, 'use_FuelPerMinute': True, 'use_PassengersPerBag': True, 'n_estimators': 239, 'max_depth': 3, 'learning_rate': 0.11844188708760521, 'subsample': 0.6391796844684063, 'colsample_bytree': 0.6460929801281283, 'gamma': 2.916445229342664, 'reg_alpha': 1.6359916418741707, 'reg_lambda': 1.5088574611349546}. Best is trial 22 with value: 523604.79071315593.\n",
      "[I 2025-05-28 23:52:52,223] Trial 23 finished with value: 527923.9555631614 and parameters: {'use_DepartureYear': True, 'use_DepartureMonth': False, 'use_DepartureDay': False, 'use_FlightNumber': True, 'use_DepartureAirport': True, 'use_ArrivalAirport': False, 'use_Route': True, 'use_ActualFlightTime': True, 'use_ActualTotalFuel': False, 'use_FlownPassengers': True, 'use_BagsCount': False, 'use_FlightBagsWeight': True, 'use_DayOfWeek': False, 'use_FuelPerMinute': True, 'use_PassengersPerBag': True, 'n_estimators': 215, 'max_depth': 3, 'learning_rate': 0.08438402455789817, 'subsample': 0.6399457915260189, 'colsample_bytree': 0.635612488595896, 'gamma': 3.0131495477505856, 'reg_alpha': 1.57009884818272, 'reg_lambda': 1.607513258517696}. Best is trial 22 with value: 523604.79071315593.\n",
      "[I 2025-05-28 23:52:58,712] Trial 24 finished with value: 534926.7428170919 and parameters: {'use_DepartureYear': True, 'use_DepartureMonth': False, 'use_DepartureDay': False, 'use_FlightNumber': True, 'use_DepartureAirport': True, 'use_ArrivalAirport': False, 'use_Route': True, 'use_ActualFlightTime': True, 'use_ActualTotalFuel': False, 'use_FlownPassengers': True, 'use_BagsCount': False, 'use_FlightBagsWeight': True, 'use_DayOfWeek': False, 'use_FuelPerMinute': True, 'use_PassengersPerBag': True, 'n_estimators': 206, 'max_depth': 3, 'learning_rate': 0.0855644996018683, 'subsample': 0.6008128827516789, 'colsample_bytree': 0.6151536581052426, 'gamma': 3.1347217240340672, 'reg_alpha': 2.1725841150633967, 'reg_lambda': 2.783516912594232}. Best is trial 22 with value: 523604.79071315593.\n",
      "[I 2025-05-28 23:53:04,870] Trial 25 finished with value: 548335.6062884647 and parameters: {'use_DepartureYear': True, 'use_DepartureMonth': False, 'use_DepartureDay': False, 'use_FlightNumber': True, 'use_DepartureAirport': True, 'use_ArrivalAirport': False, 'use_Route': True, 'use_ActualFlightTime': True, 'use_ActualTotalFuel': False, 'use_FlownPassengers': True, 'use_BagsCount': False, 'use_FlightBagsWeight': True, 'use_DayOfWeek': False, 'use_FuelPerMinute': True, 'use_PassengersPerBag': True, 'n_estimators': 188, 'max_depth': 3, 'learning_rate': 0.06186609594690089, 'subsample': 0.6425859354264971, 'colsample_bytree': 0.658383026797768, 'gamma': 1.8577988279036168, 'reg_alpha': 2.849239370437931, 'reg_lambda': 1.5133436786055376}. Best is trial 22 with value: 523604.79071315593.\n",
      "[I 2025-05-28 23:53:07,164] Trial 26 finished with value: 1236213.6981919748 and parameters: {'use_DepartureYear': False, 'use_DepartureMonth': True, 'use_DepartureDay': True, 'use_FlightNumber': True, 'use_DepartureAirport': False, 'use_ArrivalAirport': False, 'use_Route': False, 'use_ActualFlightTime': True, 'use_ActualTotalFuel': False, 'use_FlownPassengers': True, 'use_BagsCount': True, 'use_FlightBagsWeight': True, 'use_DayOfWeek': False, 'use_FuelPerMinute': False, 'use_PassengersPerBag': False, 'n_estimators': 154, 'max_depth': 4, 'learning_rate': 0.06420989203538846, 'subsample': 0.657841601682421, 'colsample_bytree': 0.6518507309097455, 'gamma': 3.330194717559111, 'reg_alpha': 1.4653046887310253, 'reg_lambda': 1.8729203472680052}. Best is trial 22 with value: 523604.79071315593.\n",
      "[I 2025-05-28 23:53:15,045] Trial 27 finished with value: 526944.5136959981 and parameters: {'use_DepartureYear': True, 'use_DepartureMonth': False, 'use_DepartureDay': False, 'use_FlightNumber': True, 'use_DepartureAirport': True, 'use_ArrivalAirport': False, 'use_Route': True, 'use_ActualFlightTime': True, 'use_ActualTotalFuel': False, 'use_FlownPassengers': True, 'use_BagsCount': False, 'use_FlightBagsWeight': True, 'use_DayOfWeek': False, 'use_FuelPerMinute': True, 'use_PassengersPerBag': True, 'n_estimators': 222, 'max_depth': 3, 'learning_rate': 0.08765535495364578, 'subsample': 0.6165302061381883, 'colsample_bytree': 0.6004528052345466, 'gamma': 3.760073395078281, 'reg_alpha': 2.070843239250198, 'reg_lambda': 3.4354202151265034}. Best is trial 22 with value: 523604.79071315593.\n",
      "[I 2025-05-28 23:53:26,095] Trial 28 finished with value: 513417.0966769199 and parameters: {'use_DepartureYear': True, 'use_DepartureMonth': False, 'use_DepartureDay': False, 'use_FlightNumber': True, 'use_DepartureAirport': True, 'use_ArrivalAirport': False, 'use_Route': True, 'use_ActualFlightTime': True, 'use_ActualTotalFuel': False, 'use_FlownPassengers': True, 'use_BagsCount': False, 'use_FlightBagsWeight': True, 'use_DayOfWeek': False, 'use_FuelPerMinute': True, 'use_PassengersPerBag': True, 'n_estimators': 268, 'max_depth': 4, 'learning_rate': 0.11415274816071591, 'subsample': 0.6213755475324894, 'colsample_bytree': 0.6007337769941724, 'gamma': 3.814335337714401, 'reg_alpha': 2.1140963044701433, 'reg_lambda': 3.711107728940596}. Best is trial 28 with value: 513417.0966769199.\n",
      "[I 2025-05-28 23:53:28,894] Trial 29 finished with value: 688155.7710631953 and parameters: {'use_DepartureYear': False, 'use_DepartureMonth': True, 'use_DepartureDay': True, 'use_FlightNumber': True, 'use_DepartureAirport': True, 'use_ArrivalAirport': False, 'use_Route': False, 'use_ActualFlightTime': True, 'use_ActualTotalFuel': False, 'use_FlownPassengers': True, 'use_BagsCount': True, 'use_FlightBagsWeight': True, 'use_DayOfWeek': False, 'use_FuelPerMinute': True, 'use_PassengersPerBag': True, 'n_estimators': 146, 'max_depth': 4, 'learning_rate': 0.15707309220993562, 'subsample': 0.6693176842112387, 'colsample_bytree': 0.6810352720918981, 'gamma': 3.7218916209305504, 'reg_alpha': 3.4608395584423097, 'reg_lambda': 3.9100882664283594}. Best is trial 28 with value: 513417.0966769199.\n"
     ]
    },
    {
     "name": "stdout",
     "output_type": "stream",
     "text": [
      "Najlepsze parametry:\n",
      "{'use_DepartureYear': True, 'use_DepartureMonth': False, 'use_DepartureDay': False, 'use_FlightNumber': True, 'use_DepartureAirport': True, 'use_ArrivalAirport': False, 'use_Route': True, 'use_ActualFlightTime': True, 'use_ActualTotalFuel': False, 'use_FlownPassengers': True, 'use_BagsCount': False, 'use_FlightBagsWeight': True, 'use_DayOfWeek': False, 'use_FuelPerMinute': True, 'use_PassengersPerBag': True, 'n_estimators': 268, 'max_depth': 4, 'learning_rate': 0.11415274816071591, 'subsample': 0.6213755475324894, 'colsample_bytree': 0.6007337769941724, 'gamma': 3.814335337714401, 'reg_alpha': 2.1140963044701433, 'reg_lambda': 3.711107728940596}\n",
      "Najniższe MSE: 513417.10\n",
      "Wybrane cechy:\n",
      "['DepartureYear', 'FlightNumber', 'DepartureAirport', 'Route', 'ActualFlightTime', 'FlownPassengers', 'FlightBagsWeight', 'FuelPerMinute', 'PassengersPerBag']\n"
     ]
    }
   ],
   "source": [
    "import pandas as pd\n",
    "import numpy as np\n",
    "from sklearn.model_selection import StratifiedKFold\n",
    "from sklearn.metrics import mean_squared_error\n",
    "from xgboost import XGBRegressor\n",
    "import optuna\n",
    "\n",
    "# Wszystkie dostępne cechy (bez targetu)\n",
    "all_features = [\n",
    "    'DepartureYear', 'DepartureMonth', 'DepartureDay',\n",
    "    'FlightNumber', 'DepartureAirport', 'ArrivalAirport', 'Route',\n",
    "    'ActualFlightTime', 'ActualTotalFuel', 'FlownPassengers',\n",
    "    'BagsCount', 'FlightBagsWeight', 'DayOfWeek', 'FuelPerMinute',\n",
    "    'PassengersPerBag'\n",
    "]\n",
    "\n",
    "X = train_df[all_features].copy()\n",
    "y = train_df['ActualTOW']\n",
    "\n",
    "# Konwersja kolumn typu object na category\n",
    "for col in X.select_dtypes(include='object').columns:\n",
    "    X[col] = X[col].astype('category')\n",
    "\n",
    "def objective(trial):\n",
    "    # Wybór cech do użycia w danej próbie\n",
    "    selected_features = [f for f in all_features if trial.suggest_categorical(f'use_{f}', [True, False])]\n",
    "    if len(selected_features) == 0:\n",
    "        return float('inf')  # nie trenuj bez żadnych cech\n",
    "\n",
    "    X_selected = X[selected_features]\n",
    "\n",
    "    params = {\n",
    "        'n_estimators': trial.suggest_int('n_estimators', 100, 500),\n",
    "        'max_depth': trial.suggest_int('max_depth', 3, 10),\n",
    "        'learning_rate': trial.suggest_float('learning_rate', 0.01, 0.2),\n",
    "        'subsample': trial.suggest_float('subsample', 0.6, 1.0),\n",
    "        'colsample_bytree': trial.suggest_float('colsample_bytree', 0.6, 1.0),\n",
    "        'gamma': trial.suggest_float('gamma', 0, 5),\n",
    "        'reg_alpha': trial.suggest_float('reg_alpha', 0, 5),\n",
    "        'reg_lambda': trial.suggest_float('reg_lambda', 0, 5),\n",
    "        'tree_method': 'hist',\n",
    "        'enable_categorical': True,\n",
    "        'random_state': 42,\n",
    "    }\n",
    "\n",
    "    skf = StratifiedKFold(n_splits=5, shuffle=True, random_state=42)\n",
    "    y_bins = pd.qcut(y, q=10, duplicates='drop', labels=False)\n",
    "    mse_scores = []\n",
    "\n",
    "    for train_idx, val_idx in skf.split(X_selected, y_bins):\n",
    "        X_train, X_val = X_selected.iloc[train_idx], X_selected.iloc[val_idx]\n",
    "        y_train, y_val = y.iloc[train_idx], y.iloc[val_idx]\n",
    "\n",
    "        model = XGBRegressor(**params)\n",
    "        model.fit(\n",
    "            X_train, y_train,\n",
    "            eval_set=[(X_val, y_val)],\n",
    "            verbose=False\n",
    "        )\n",
    "        y_pred = model.predict(X_val)\n",
    "        mse_scores.append(mean_squared_error(y_val, y_pred))\n",
    "\n",
    "    return np.mean(mse_scores)\n",
    "\n",
    "# Optymalizacja\n",
    "study = optuna.create_study(direction='minimize')\n",
    "study.optimize(objective, n_trials=30)\n",
    "\n",
    "print(\"Best parameters:\")\n",
    "print(study.best_params)\n",
    "print(f\"Best MSE: {study.best_value:.2f}\")\n",
    "\n",
    "# Wybrane cechy\n",
    "best_features = [f for f in all_features if study.best_params.get(f'use_' + f, False)]\n",
    "print(\"Features:\")\n",
    "print(best_features)"
   ]
  },
  {
   "cell_type": "code",
   "execution_count": null,
   "id": "e8b99051",
   "metadata": {},
   "outputs": [],
   "source": []
  },
  {
   "cell_type": "code",
   "execution_count": null,
   "id": "d1115534",
   "metadata": {},
   "outputs": [
    {
     "name": "stderr",
     "output_type": "stream",
     "text": [
      "C:\\Users\\Natalia\\AppData\\Local\\Temp\\ipykernel_13020\\2031335948.py:16: SettingWithCopyWarning: \n",
      "A value is trying to be set on a copy of a slice from a DataFrame.\n",
      "Try using .loc[row_indexer,col_indexer] = value instead\n",
      "\n",
      "See the caveats in the documentation: https://pandas.pydata.org/pandas-docs/stable/user_guide/indexing.html#returning-a-view-versus-a-copy\n",
      "  X[col] = X[col].astype('category')\n",
      "C:\\Users\\Natalia\\AppData\\Local\\Temp\\ipykernel_13020\\2031335948.py:16: SettingWithCopyWarning: \n",
      "A value is trying to be set on a copy of a slice from a DataFrame.\n",
      "Try using .loc[row_indexer,col_indexer] = value instead\n",
      "\n",
      "See the caveats in the documentation: https://pandas.pydata.org/pandas-docs/stable/user_guide/indexing.html#returning-a-view-versus-a-copy\n",
      "  X[col] = X[col].astype('category')\n",
      "C:\\Users\\Natalia\\AppData\\Local\\Temp\\ipykernel_13020\\2031335948.py:16: SettingWithCopyWarning: \n",
      "A value is trying to be set on a copy of a slice from a DataFrame.\n",
      "Try using .loc[row_indexer,col_indexer] = value instead\n",
      "\n",
      "See the caveats in the documentation: https://pandas.pydata.org/pandas-docs/stable/user_guide/indexing.html#returning-a-view-versus-a-copy\n",
      "  X[col] = X[col].astype('category')\n",
      "C:\\Users\\Natalia\\AppData\\Local\\Temp\\ipykernel_13020\\2031335948.py:16: SettingWithCopyWarning: \n",
      "A value is trying to be set on a copy of a slice from a DataFrame.\n",
      "Try using .loc[row_indexer,col_indexer] = value instead\n",
      "\n",
      "See the caveats in the documentation: https://pandas.pydata.org/pandas-docs/stable/user_guide/indexing.html#returning-a-view-versus-a-copy\n",
      "  X[col] = X[col].astype('category')\n",
      "[I 2025-05-28 23:25:53,881] A new study created in memory with name: no-name-e38088c3-39c3-45aa-ad6a-fa5834f996aa\n",
      "[I 2025-05-28 23:26:01,428] Trial 0 finished with value: 631106.7893962632 and parameters: {'n_estimators': 157, 'max_depth': 5, 'learning_rate': 0.05539693210349655, 'subsample': 0.6554250828779481, 'colsample_bytree': 0.8695643292480513, 'gamma': 4.360468998587502, 'reg_alpha': 0.3537490367148882, 'reg_lambda': 4.1804855667636955}. Best is trial 0 with value: 631106.7893962632.\n",
      "[I 2025-05-28 23:27:29,781] Trial 1 finished with value: 765983.7041758478 and parameters: {'n_estimators': 441, 'max_depth': 9, 'learning_rate': 0.06397391101861818, 'subsample': 0.6829135264352003, 'colsample_bytree': 0.6668160443924708, 'gamma': 0.5198707083796467, 'reg_alpha': 1.925078030811156, 'reg_lambda': 2.447217181251587}. Best is trial 0 with value: 631106.7893962632.\n",
      "[I 2025-05-28 23:28:00,055] Trial 2 finished with value: 674991.3615936632 and parameters: {'n_estimators': 369, 'max_depth': 6, 'learning_rate': 0.13449899319707218, 'subsample': 0.7121852134273585, 'colsample_bytree': 0.6536489943667388, 'gamma': 3.601928666310678, 'reg_alpha': 3.5283728263088134, 'reg_lambda': 0.7505418081493742}. Best is trial 0 with value: 631106.7893962632.\n",
      "[W 2025-05-28 23:28:52,505] Trial 3 failed with parameters: {'n_estimators': 375, 'max_depth': 9, 'learning_rate': 0.17826172165502327, 'subsample': 0.6189564001484615, 'colsample_bytree': 0.9817230772122394, 'gamma': 4.353471123659779, 'reg_alpha': 0.539191343882961, 'reg_lambda': 0.5380070931700304} because of the following error: KeyboardInterrupt().\n",
      "Traceback (most recent call last):\n",
      "  File \"c:\\Users\\Natalia\\AppData\\Local\\Programs\\Python\\Python310\\lib\\site-packages\\optuna\\study\\_optimize.py\", line 197, in _run_trial\n",
      "    value_or_values = func(trial)\n",
      "  File \"C:\\Users\\Natalia\\AppData\\Local\\Temp\\ipykernel_13020\\2031335948.py\", line 43, in objective\n",
      "    model.fit(\n",
      "  File \"c:\\Users\\Natalia\\AppData\\Local\\Programs\\Python\\Python310\\lib\\site-packages\\xgboost\\core.py\", line 729, in inner_f\n",
      "    return func(**kwargs)\n",
      "  File \"c:\\Users\\Natalia\\AppData\\Local\\Programs\\Python\\Python310\\lib\\site-packages\\xgboost\\sklearn.py\", line 1247, in fit\n",
      "    self._Booster = train(\n",
      "  File \"c:\\Users\\Natalia\\AppData\\Local\\Programs\\Python\\Python310\\lib\\site-packages\\xgboost\\core.py\", line 729, in inner_f\n",
      "    return func(**kwargs)\n",
      "  File \"c:\\Users\\Natalia\\AppData\\Local\\Programs\\Python\\Python310\\lib\\site-packages\\xgboost\\training.py\", line 183, in train\n",
      "    bst.update(dtrain, iteration=i, fobj=obj)\n",
      "  File \"c:\\Users\\Natalia\\AppData\\Local\\Programs\\Python\\Python310\\lib\\site-packages\\xgboost\\core.py\", line 2247, in update\n",
      "    _LIB.XGBoosterUpdateOneIter(\n",
      "KeyboardInterrupt\n",
      "[W 2025-05-28 23:28:52,505] Trial 3 failed with value None.\n"
     ]
    },
    {
     "ename": "KeyboardInterrupt",
     "evalue": "",
     "output_type": "error",
     "traceback": [
      "\u001b[1;31m---------------------------------------------------------------------------\u001b[0m",
      "\u001b[1;31mKeyboardInterrupt\u001b[0m                         Traceback (most recent call last)",
      "Input \u001b[1;32mIn [194]\u001b[0m, in \u001b[0;36m<cell line: 61>\u001b[1;34m()\u001b[0m\n\u001b[0;32m     57\u001b[0m \u001b[38;5;66;03m# -------------------------\u001b[39;00m\n\u001b[0;32m     58\u001b[0m \u001b[38;5;66;03m# Uruchomienie Optuny\u001b[39;00m\n\u001b[0;32m     59\u001b[0m \u001b[38;5;66;03m# -------------------------\u001b[39;00m\n\u001b[0;32m     60\u001b[0m study \u001b[38;5;241m=\u001b[39m optuna\u001b[38;5;241m.\u001b[39mcreate_study(direction\u001b[38;5;241m=\u001b[39m\u001b[38;5;124m'\u001b[39m\u001b[38;5;124mminimize\u001b[39m\u001b[38;5;124m'\u001b[39m)\n\u001b[1;32m---> 61\u001b[0m \u001b[43mstudy\u001b[49m\u001b[38;5;241;43m.\u001b[39;49m\u001b[43moptimize\u001b[49m\u001b[43m(\u001b[49m\u001b[43mobjective\u001b[49m\u001b[43m,\u001b[49m\u001b[43m \u001b[49m\u001b[43mn_trials\u001b[49m\u001b[38;5;241;43m=\u001b[39;49m\u001b[38;5;241;43m30\u001b[39;49m\u001b[43m)\u001b[49m\n\u001b[0;32m     63\u001b[0m \u001b[38;5;28mprint\u001b[39m(\u001b[38;5;124m\"\u001b[39m\u001b[38;5;124mNajlepsze parametry:\u001b[39m\u001b[38;5;124m\"\u001b[39m)\n\u001b[0;32m     64\u001b[0m \u001b[38;5;28mprint\u001b[39m(study\u001b[38;5;241m.\u001b[39mbest_params)\n",
      "File \u001b[1;32mc:\\Users\\Natalia\\AppData\\Local\\Programs\\Python\\Python310\\lib\\site-packages\\optuna\\study\\study.py:475\u001b[0m, in \u001b[0;36mStudy.optimize\u001b[1;34m(self, func, n_trials, timeout, n_jobs, catch, callbacks, gc_after_trial, show_progress_bar)\u001b[0m\n\u001b[0;32m    373\u001b[0m \u001b[38;5;28;01mdef\u001b[39;00m \u001b[38;5;21moptimize\u001b[39m(\n\u001b[0;32m    374\u001b[0m     \u001b[38;5;28mself\u001b[39m,\n\u001b[0;32m    375\u001b[0m     func: ObjectiveFuncType,\n\u001b[1;32m   (...)\u001b[0m\n\u001b[0;32m    382\u001b[0m     show_progress_bar: \u001b[38;5;28mbool\u001b[39m \u001b[38;5;241m=\u001b[39m \u001b[38;5;28;01mFalse\u001b[39;00m,\n\u001b[0;32m    383\u001b[0m ) \u001b[38;5;241m-\u001b[39m\u001b[38;5;241m>\u001b[39m \u001b[38;5;28;01mNone\u001b[39;00m:\n\u001b[0;32m    384\u001b[0m     \u001b[38;5;124;03m\"\"\"Optimize an objective function.\u001b[39;00m\n\u001b[0;32m    385\u001b[0m \n\u001b[0;32m    386\u001b[0m \u001b[38;5;124;03m    Optimization is done by choosing a suitable set of hyperparameter values from a given\u001b[39;00m\n\u001b[1;32m   (...)\u001b[0m\n\u001b[0;32m    473\u001b[0m \u001b[38;5;124;03m            If nested invocation of this method occurs.\u001b[39;00m\n\u001b[0;32m    474\u001b[0m \u001b[38;5;124;03m    \"\"\"\u001b[39;00m\n\u001b[1;32m--> 475\u001b[0m     \u001b[43m_optimize\u001b[49m\u001b[43m(\u001b[49m\n\u001b[0;32m    476\u001b[0m \u001b[43m        \u001b[49m\u001b[43mstudy\u001b[49m\u001b[38;5;241;43m=\u001b[39;49m\u001b[38;5;28;43mself\u001b[39;49m\u001b[43m,\u001b[49m\n\u001b[0;32m    477\u001b[0m \u001b[43m        \u001b[49m\u001b[43mfunc\u001b[49m\u001b[38;5;241;43m=\u001b[39;49m\u001b[43mfunc\u001b[49m\u001b[43m,\u001b[49m\n\u001b[0;32m    478\u001b[0m \u001b[43m        \u001b[49m\u001b[43mn_trials\u001b[49m\u001b[38;5;241;43m=\u001b[39;49m\u001b[43mn_trials\u001b[49m\u001b[43m,\u001b[49m\n\u001b[0;32m    479\u001b[0m \u001b[43m        \u001b[49m\u001b[43mtimeout\u001b[49m\u001b[38;5;241;43m=\u001b[39;49m\u001b[43mtimeout\u001b[49m\u001b[43m,\u001b[49m\n\u001b[0;32m    480\u001b[0m \u001b[43m        \u001b[49m\u001b[43mn_jobs\u001b[49m\u001b[38;5;241;43m=\u001b[39;49m\u001b[43mn_jobs\u001b[49m\u001b[43m,\u001b[49m\n\u001b[0;32m    481\u001b[0m \u001b[43m        \u001b[49m\u001b[43mcatch\u001b[49m\u001b[38;5;241;43m=\u001b[39;49m\u001b[38;5;28;43mtuple\u001b[39;49m\u001b[43m(\u001b[49m\u001b[43mcatch\u001b[49m\u001b[43m)\u001b[49m\u001b[43m \u001b[49m\u001b[38;5;28;43;01mif\u001b[39;49;00m\u001b[43m \u001b[49m\u001b[38;5;28;43misinstance\u001b[39;49m\u001b[43m(\u001b[49m\u001b[43mcatch\u001b[49m\u001b[43m,\u001b[49m\u001b[43m \u001b[49m\u001b[43mIterable\u001b[49m\u001b[43m)\u001b[49m\u001b[43m \u001b[49m\u001b[38;5;28;43;01melse\u001b[39;49;00m\u001b[43m \u001b[49m\u001b[43m(\u001b[49m\u001b[43mcatch\u001b[49m\u001b[43m,\u001b[49m\u001b[43m)\u001b[49m\u001b[43m,\u001b[49m\n\u001b[0;32m    482\u001b[0m \u001b[43m        \u001b[49m\u001b[43mcallbacks\u001b[49m\u001b[38;5;241;43m=\u001b[39;49m\u001b[43mcallbacks\u001b[49m\u001b[43m,\u001b[49m\n\u001b[0;32m    483\u001b[0m \u001b[43m        \u001b[49m\u001b[43mgc_after_trial\u001b[49m\u001b[38;5;241;43m=\u001b[39;49m\u001b[43mgc_after_trial\u001b[49m\u001b[43m,\u001b[49m\n\u001b[0;32m    484\u001b[0m \u001b[43m        \u001b[49m\u001b[43mshow_progress_bar\u001b[49m\u001b[38;5;241;43m=\u001b[39;49m\u001b[43mshow_progress_bar\u001b[49m\u001b[43m,\u001b[49m\n\u001b[0;32m    485\u001b[0m \u001b[43m    \u001b[49m\u001b[43m)\u001b[49m\n",
      "File \u001b[1;32mc:\\Users\\Natalia\\AppData\\Local\\Programs\\Python\\Python310\\lib\\site-packages\\optuna\\study\\_optimize.py:63\u001b[0m, in \u001b[0;36m_optimize\u001b[1;34m(study, func, n_trials, timeout, n_jobs, catch, callbacks, gc_after_trial, show_progress_bar)\u001b[0m\n\u001b[0;32m     61\u001b[0m \u001b[38;5;28;01mtry\u001b[39;00m:\n\u001b[0;32m     62\u001b[0m     \u001b[38;5;28;01mif\u001b[39;00m n_jobs \u001b[38;5;241m==\u001b[39m \u001b[38;5;241m1\u001b[39m:\n\u001b[1;32m---> 63\u001b[0m         \u001b[43m_optimize_sequential\u001b[49m\u001b[43m(\u001b[49m\n\u001b[0;32m     64\u001b[0m \u001b[43m            \u001b[49m\u001b[43mstudy\u001b[49m\u001b[43m,\u001b[49m\n\u001b[0;32m     65\u001b[0m \u001b[43m            \u001b[49m\u001b[43mfunc\u001b[49m\u001b[43m,\u001b[49m\n\u001b[0;32m     66\u001b[0m \u001b[43m            \u001b[49m\u001b[43mn_trials\u001b[49m\u001b[43m,\u001b[49m\n\u001b[0;32m     67\u001b[0m \u001b[43m            \u001b[49m\u001b[43mtimeout\u001b[49m\u001b[43m,\u001b[49m\n\u001b[0;32m     68\u001b[0m \u001b[43m            \u001b[49m\u001b[43mcatch\u001b[49m\u001b[43m,\u001b[49m\n\u001b[0;32m     69\u001b[0m \u001b[43m            \u001b[49m\u001b[43mcallbacks\u001b[49m\u001b[43m,\u001b[49m\n\u001b[0;32m     70\u001b[0m \u001b[43m            \u001b[49m\u001b[43mgc_after_trial\u001b[49m\u001b[43m,\u001b[49m\n\u001b[0;32m     71\u001b[0m \u001b[43m            \u001b[49m\u001b[43mreseed_sampler_rng\u001b[49m\u001b[38;5;241;43m=\u001b[39;49m\u001b[38;5;28;43;01mFalse\u001b[39;49;00m\u001b[43m,\u001b[49m\n\u001b[0;32m     72\u001b[0m \u001b[43m            \u001b[49m\u001b[43mtime_start\u001b[49m\u001b[38;5;241;43m=\u001b[39;49m\u001b[38;5;28;43;01mNone\u001b[39;49;00m\u001b[43m,\u001b[49m\n\u001b[0;32m     73\u001b[0m \u001b[43m            \u001b[49m\u001b[43mprogress_bar\u001b[49m\u001b[38;5;241;43m=\u001b[39;49m\u001b[43mprogress_bar\u001b[49m\u001b[43m,\u001b[49m\n\u001b[0;32m     74\u001b[0m \u001b[43m        \u001b[49m\u001b[43m)\u001b[49m\n\u001b[0;32m     75\u001b[0m     \u001b[38;5;28;01melse\u001b[39;00m:\n\u001b[0;32m     76\u001b[0m         \u001b[38;5;28;01mif\u001b[39;00m n_jobs \u001b[38;5;241m==\u001b[39m \u001b[38;5;241m-\u001b[39m\u001b[38;5;241m1\u001b[39m:\n",
      "File \u001b[1;32mc:\\Users\\Natalia\\AppData\\Local\\Programs\\Python\\Python310\\lib\\site-packages\\optuna\\study\\_optimize.py:160\u001b[0m, in \u001b[0;36m_optimize_sequential\u001b[1;34m(study, func, n_trials, timeout, catch, callbacks, gc_after_trial, reseed_sampler_rng, time_start, progress_bar)\u001b[0m\n\u001b[0;32m    157\u001b[0m         \u001b[38;5;28;01mbreak\u001b[39;00m\n\u001b[0;32m    159\u001b[0m \u001b[38;5;28;01mtry\u001b[39;00m:\n\u001b[1;32m--> 160\u001b[0m     frozen_trial \u001b[38;5;241m=\u001b[39m \u001b[43m_run_trial\u001b[49m\u001b[43m(\u001b[49m\u001b[43mstudy\u001b[49m\u001b[43m,\u001b[49m\u001b[43m \u001b[49m\u001b[43mfunc\u001b[49m\u001b[43m,\u001b[49m\u001b[43m \u001b[49m\u001b[43mcatch\u001b[49m\u001b[43m)\u001b[49m\n\u001b[0;32m    161\u001b[0m \u001b[38;5;28;01mfinally\u001b[39;00m:\n\u001b[0;32m    162\u001b[0m     \u001b[38;5;66;03m# The following line mitigates memory problems that can be occurred in some\u001b[39;00m\n\u001b[0;32m    163\u001b[0m     \u001b[38;5;66;03m# environments (e.g., services that use computing containers such as GitHub Actions).\u001b[39;00m\n\u001b[0;32m    164\u001b[0m     \u001b[38;5;66;03m# Please refer to the following PR for further details:\u001b[39;00m\n\u001b[0;32m    165\u001b[0m     \u001b[38;5;66;03m# https://github.com/optuna/optuna/pull/325.\u001b[39;00m\n\u001b[0;32m    166\u001b[0m     \u001b[38;5;28;01mif\u001b[39;00m gc_after_trial:\n",
      "File \u001b[1;32mc:\\Users\\Natalia\\AppData\\Local\\Programs\\Python\\Python310\\lib\\site-packages\\optuna\\study\\_optimize.py:248\u001b[0m, in \u001b[0;36m_run_trial\u001b[1;34m(study, func, catch)\u001b[0m\n\u001b[0;32m    241\u001b[0m         \u001b[38;5;28;01massert\u001b[39;00m \u001b[38;5;28;01mFalse\u001b[39;00m, \u001b[38;5;124m\"\u001b[39m\u001b[38;5;124mShould not reach.\u001b[39m\u001b[38;5;124m\"\u001b[39m\n\u001b[0;32m    243\u001b[0m \u001b[38;5;28;01mif\u001b[39;00m (\n\u001b[0;32m    244\u001b[0m     frozen_trial\u001b[38;5;241m.\u001b[39mstate \u001b[38;5;241m==\u001b[39m TrialState\u001b[38;5;241m.\u001b[39mFAIL\n\u001b[0;32m    245\u001b[0m     \u001b[38;5;129;01mand\u001b[39;00m func_err \u001b[38;5;129;01mis\u001b[39;00m \u001b[38;5;129;01mnot\u001b[39;00m \u001b[38;5;28;01mNone\u001b[39;00m\n\u001b[0;32m    246\u001b[0m     \u001b[38;5;129;01mand\u001b[39;00m \u001b[38;5;129;01mnot\u001b[39;00m \u001b[38;5;28misinstance\u001b[39m(func_err, catch)\n\u001b[0;32m    247\u001b[0m ):\n\u001b[1;32m--> 248\u001b[0m     \u001b[38;5;28;01mraise\u001b[39;00m func_err\n\u001b[0;32m    249\u001b[0m \u001b[38;5;28;01mreturn\u001b[39;00m frozen_trial\n",
      "File \u001b[1;32mc:\\Users\\Natalia\\AppData\\Local\\Programs\\Python\\Python310\\lib\\site-packages\\optuna\\study\\_optimize.py:197\u001b[0m, in \u001b[0;36m_run_trial\u001b[1;34m(study, func, catch)\u001b[0m\n\u001b[0;32m    195\u001b[0m \u001b[38;5;28;01mwith\u001b[39;00m get_heartbeat_thread(trial\u001b[38;5;241m.\u001b[39m_trial_id, study\u001b[38;5;241m.\u001b[39m_storage):\n\u001b[0;32m    196\u001b[0m     \u001b[38;5;28;01mtry\u001b[39;00m:\n\u001b[1;32m--> 197\u001b[0m         value_or_values \u001b[38;5;241m=\u001b[39m \u001b[43mfunc\u001b[49m\u001b[43m(\u001b[49m\u001b[43mtrial\u001b[49m\u001b[43m)\u001b[49m\n\u001b[0;32m    198\u001b[0m     \u001b[38;5;28;01mexcept\u001b[39;00m exceptions\u001b[38;5;241m.\u001b[39mTrialPruned \u001b[38;5;28;01mas\u001b[39;00m e:\n\u001b[0;32m    199\u001b[0m         \u001b[38;5;66;03m# TODO(mamu): Handle multi-objective cases.\u001b[39;00m\n\u001b[0;32m    200\u001b[0m         state \u001b[38;5;241m=\u001b[39m TrialState\u001b[38;5;241m.\u001b[39mPRUNED\n",
      "Input \u001b[1;32mIn [194]\u001b[0m, in \u001b[0;36mobjective\u001b[1;34m(trial)\u001b[0m\n\u001b[0;32m     40\u001b[0m y_train, y_val \u001b[38;5;241m=\u001b[39m y\u001b[38;5;241m.\u001b[39miloc[train_idx], y\u001b[38;5;241m.\u001b[39miloc[val_idx]\n\u001b[0;32m     42\u001b[0m model \u001b[38;5;241m=\u001b[39m XGBRegressor(\u001b[38;5;241m*\u001b[39m\u001b[38;5;241m*\u001b[39mparams)\n\u001b[1;32m---> 43\u001b[0m \u001b[43mmodel\u001b[49m\u001b[38;5;241;43m.\u001b[39;49m\u001b[43mfit\u001b[49m\u001b[43m(\u001b[49m\n\u001b[0;32m     44\u001b[0m \u001b[43m    \u001b[49m\u001b[43mX_train\u001b[49m\u001b[43m,\u001b[49m\u001b[43m \u001b[49m\u001b[43my_train\u001b[49m\u001b[43m,\u001b[49m\n\u001b[0;32m     45\u001b[0m \u001b[43m    \u001b[49m\u001b[43meval_set\u001b[49m\u001b[38;5;241;43m=\u001b[39;49m\u001b[43m[\u001b[49m\u001b[43m(\u001b[49m\u001b[43mX_val\u001b[49m\u001b[43m,\u001b[49m\u001b[43m \u001b[49m\u001b[43my_val\u001b[49m\u001b[43m)\u001b[49m\u001b[43m]\u001b[49m\u001b[43m,\u001b[49m\n\u001b[0;32m     46\u001b[0m \u001b[43m    \u001b[49m\u001b[43mverbose\u001b[49m\u001b[38;5;241;43m=\u001b[39;49m\u001b[38;5;28;43;01mFalse\u001b[39;49;00m\n\u001b[0;32m     47\u001b[0m \u001b[43m\u001b[49m\u001b[43m)\u001b[49m\n\u001b[0;32m     50\u001b[0m y_pred \u001b[38;5;241m=\u001b[39m model\u001b[38;5;241m.\u001b[39mpredict(X_val)\n\u001b[0;32m     51\u001b[0m mse \u001b[38;5;241m=\u001b[39m mean_squared_error(y_val, y_pred)\n",
      "File \u001b[1;32mc:\\Users\\Natalia\\AppData\\Local\\Programs\\Python\\Python310\\lib\\site-packages\\xgboost\\core.py:729\u001b[0m, in \u001b[0;36mrequire_keyword_args.<locals>.throw_if.<locals>.inner_f\u001b[1;34m(*args, **kwargs)\u001b[0m\n\u001b[0;32m    727\u001b[0m \u001b[38;5;28;01mfor\u001b[39;00m k, arg \u001b[38;5;129;01min\u001b[39;00m \u001b[38;5;28mzip\u001b[39m(sig\u001b[38;5;241m.\u001b[39mparameters, args):\n\u001b[0;32m    728\u001b[0m     kwargs[k] \u001b[38;5;241m=\u001b[39m arg\n\u001b[1;32m--> 729\u001b[0m \u001b[38;5;28;01mreturn\u001b[39;00m func(\u001b[38;5;241m*\u001b[39m\u001b[38;5;241m*\u001b[39mkwargs)\n",
      "File \u001b[1;32mc:\\Users\\Natalia\\AppData\\Local\\Programs\\Python\\Python310\\lib\\site-packages\\xgboost\\sklearn.py:1247\u001b[0m, in \u001b[0;36mXGBModel.fit\u001b[1;34m(self, X, y, sample_weight, base_margin, eval_set, verbose, xgb_model, sample_weight_eval_set, base_margin_eval_set, feature_weights)\u001b[0m\n\u001b[0;32m   1244\u001b[0m \u001b[38;5;28;01melse\u001b[39;00m:\n\u001b[0;32m   1245\u001b[0m     obj \u001b[38;5;241m=\u001b[39m \u001b[38;5;28;01mNone\u001b[39;00m\n\u001b[1;32m-> 1247\u001b[0m \u001b[38;5;28mself\u001b[39m\u001b[38;5;241m.\u001b[39m_Booster \u001b[38;5;241m=\u001b[39m \u001b[43mtrain\u001b[49m\u001b[43m(\u001b[49m\n\u001b[0;32m   1248\u001b[0m \u001b[43m    \u001b[49m\u001b[43mparams\u001b[49m\u001b[43m,\u001b[49m\n\u001b[0;32m   1249\u001b[0m \u001b[43m    \u001b[49m\u001b[43mtrain_dmatrix\u001b[49m\u001b[43m,\u001b[49m\n\u001b[0;32m   1250\u001b[0m \u001b[43m    \u001b[49m\u001b[38;5;28;43mself\u001b[39;49m\u001b[38;5;241;43m.\u001b[39;49m\u001b[43mget_num_boosting_rounds\u001b[49m\u001b[43m(\u001b[49m\u001b[43m)\u001b[49m\u001b[43m,\u001b[49m\n\u001b[0;32m   1251\u001b[0m \u001b[43m    \u001b[49m\u001b[43mevals\u001b[49m\u001b[38;5;241;43m=\u001b[39;49m\u001b[43mevals\u001b[49m\u001b[43m,\u001b[49m\n\u001b[0;32m   1252\u001b[0m \u001b[43m    \u001b[49m\u001b[43mearly_stopping_rounds\u001b[49m\u001b[38;5;241;43m=\u001b[39;49m\u001b[38;5;28;43mself\u001b[39;49m\u001b[38;5;241;43m.\u001b[39;49m\u001b[43mearly_stopping_rounds\u001b[49m\u001b[43m,\u001b[49m\n\u001b[0;32m   1253\u001b[0m \u001b[43m    \u001b[49m\u001b[43mevals_result\u001b[49m\u001b[38;5;241;43m=\u001b[39;49m\u001b[43mevals_result\u001b[49m\u001b[43m,\u001b[49m\n\u001b[0;32m   1254\u001b[0m \u001b[43m    \u001b[49m\u001b[43mobj\u001b[49m\u001b[38;5;241;43m=\u001b[39;49m\u001b[43mobj\u001b[49m\u001b[43m,\u001b[49m\n\u001b[0;32m   1255\u001b[0m \u001b[43m    \u001b[49m\u001b[43mcustom_metric\u001b[49m\u001b[38;5;241;43m=\u001b[39;49m\u001b[43mmetric\u001b[49m\u001b[43m,\u001b[49m\n\u001b[0;32m   1256\u001b[0m \u001b[43m    \u001b[49m\u001b[43mverbose_eval\u001b[49m\u001b[38;5;241;43m=\u001b[39;49m\u001b[43mverbose\u001b[49m\u001b[43m,\u001b[49m\n\u001b[0;32m   1257\u001b[0m \u001b[43m    \u001b[49m\u001b[43mxgb_model\u001b[49m\u001b[38;5;241;43m=\u001b[39;49m\u001b[43mmodel\u001b[49m\u001b[43m,\u001b[49m\n\u001b[0;32m   1258\u001b[0m \u001b[43m    \u001b[49m\u001b[43mcallbacks\u001b[49m\u001b[38;5;241;43m=\u001b[39;49m\u001b[38;5;28;43mself\u001b[39;49m\u001b[38;5;241;43m.\u001b[39;49m\u001b[43mcallbacks\u001b[49m\u001b[43m,\u001b[49m\n\u001b[0;32m   1259\u001b[0m \u001b[43m\u001b[49m\u001b[43m)\u001b[49m\n\u001b[0;32m   1261\u001b[0m \u001b[38;5;28mself\u001b[39m\u001b[38;5;241m.\u001b[39m_set_evaluation_result(evals_result)\n\u001b[0;32m   1262\u001b[0m \u001b[38;5;28;01mreturn\u001b[39;00m \u001b[38;5;28mself\u001b[39m\n",
      "File \u001b[1;32mc:\\Users\\Natalia\\AppData\\Local\\Programs\\Python\\Python310\\lib\\site-packages\\xgboost\\core.py:729\u001b[0m, in \u001b[0;36mrequire_keyword_args.<locals>.throw_if.<locals>.inner_f\u001b[1;34m(*args, **kwargs)\u001b[0m\n\u001b[0;32m    727\u001b[0m \u001b[38;5;28;01mfor\u001b[39;00m k, arg \u001b[38;5;129;01min\u001b[39;00m \u001b[38;5;28mzip\u001b[39m(sig\u001b[38;5;241m.\u001b[39mparameters, args):\n\u001b[0;32m    728\u001b[0m     kwargs[k] \u001b[38;5;241m=\u001b[39m arg\n\u001b[1;32m--> 729\u001b[0m \u001b[38;5;28;01mreturn\u001b[39;00m func(\u001b[38;5;241m*\u001b[39m\u001b[38;5;241m*\u001b[39mkwargs)\n",
      "File \u001b[1;32mc:\\Users\\Natalia\\AppData\\Local\\Programs\\Python\\Python310\\lib\\site-packages\\xgboost\\training.py:183\u001b[0m, in \u001b[0;36mtrain\u001b[1;34m(params, dtrain, num_boost_round, evals, obj, maximize, early_stopping_rounds, evals_result, verbose_eval, xgb_model, callbacks, custom_metric)\u001b[0m\n\u001b[0;32m    181\u001b[0m \u001b[38;5;28;01mif\u001b[39;00m cb_container\u001b[38;5;241m.\u001b[39mbefore_iteration(bst, i, dtrain, evals):\n\u001b[0;32m    182\u001b[0m     \u001b[38;5;28;01mbreak\u001b[39;00m\n\u001b[1;32m--> 183\u001b[0m \u001b[43mbst\u001b[49m\u001b[38;5;241;43m.\u001b[39;49m\u001b[43mupdate\u001b[49m\u001b[43m(\u001b[49m\u001b[43mdtrain\u001b[49m\u001b[43m,\u001b[49m\u001b[43m \u001b[49m\u001b[43miteration\u001b[49m\u001b[38;5;241;43m=\u001b[39;49m\u001b[43mi\u001b[49m\u001b[43m,\u001b[49m\u001b[43m \u001b[49m\u001b[43mfobj\u001b[49m\u001b[38;5;241;43m=\u001b[39;49m\u001b[43mobj\u001b[49m\u001b[43m)\u001b[49m\n\u001b[0;32m    184\u001b[0m \u001b[38;5;28;01mif\u001b[39;00m cb_container\u001b[38;5;241m.\u001b[39mafter_iteration(bst, i, dtrain, evals):\n\u001b[0;32m    185\u001b[0m     \u001b[38;5;28;01mbreak\u001b[39;00m\n",
      "File \u001b[1;32mc:\\Users\\Natalia\\AppData\\Local\\Programs\\Python\\Python310\\lib\\site-packages\\xgboost\\core.py:2247\u001b[0m, in \u001b[0;36mBooster.update\u001b[1;34m(self, dtrain, iteration, fobj)\u001b[0m\n\u001b[0;32m   2243\u001b[0m \u001b[38;5;28mself\u001b[39m\u001b[38;5;241m.\u001b[39m_assign_dmatrix_features(dtrain)\n\u001b[0;32m   2245\u001b[0m \u001b[38;5;28;01mif\u001b[39;00m fobj \u001b[38;5;129;01mis\u001b[39;00m \u001b[38;5;28;01mNone\u001b[39;00m:\n\u001b[0;32m   2246\u001b[0m     _check_call(\n\u001b[1;32m-> 2247\u001b[0m         \u001b[43m_LIB\u001b[49m\u001b[38;5;241;43m.\u001b[39;49m\u001b[43mXGBoosterUpdateOneIter\u001b[49m\u001b[43m(\u001b[49m\n\u001b[0;32m   2248\u001b[0m \u001b[43m            \u001b[49m\u001b[38;5;28;43mself\u001b[39;49m\u001b[38;5;241;43m.\u001b[39;49m\u001b[43mhandle\u001b[49m\u001b[43m,\u001b[49m\u001b[43m \u001b[49m\u001b[43mctypes\u001b[49m\u001b[38;5;241;43m.\u001b[39;49m\u001b[43mc_int\u001b[49m\u001b[43m(\u001b[49m\u001b[43miteration\u001b[49m\u001b[43m)\u001b[49m\u001b[43m,\u001b[49m\u001b[43m \u001b[49m\u001b[43mdtrain\u001b[49m\u001b[38;5;241;43m.\u001b[39;49m\u001b[43mhandle\u001b[49m\n\u001b[0;32m   2249\u001b[0m \u001b[43m        \u001b[49m\u001b[43m)\u001b[49m\n\u001b[0;32m   2250\u001b[0m     )\n\u001b[0;32m   2251\u001b[0m \u001b[38;5;28;01melse\u001b[39;00m:\n\u001b[0;32m   2252\u001b[0m     pred \u001b[38;5;241m=\u001b[39m \u001b[38;5;28mself\u001b[39m\u001b[38;5;241m.\u001b[39mpredict(dtrain, output_margin\u001b[38;5;241m=\u001b[39m\u001b[38;5;28;01mTrue\u001b[39;00m, training\u001b[38;5;241m=\u001b[39m\u001b[38;5;28;01mTrue\u001b[39;00m)\n",
      "\u001b[1;31mKeyboardInterrupt\u001b[0m: "
     ]
    }
   ],
   "source": [
    "import pandas as pd\n",
    "import numpy as np\n",
    "from sklearn.model_selection import train_test_split\n",
    "from sklearn.model_selection import StratifiedKFold\n",
    "from sklearn.metrics import mean_squared_error\n",
    "from xgboost import XGBRegressor\n",
    "import optuna\n",
    "\n",
    "features = list(train_df.columns.difference(['ActualTOW']))\n",
    "\n",
    "\n",
    "X = train_df[features].copy()\n",
    "y = train_df['ActualTOW']\n",
    "\n",
    "for col in X.select_dtypes(include='object').columns:\n",
    "    X[col] = X[col].astype('category')\n",
    "\n",
    "def objective(trial):\n",
    "    params = {\n",
    "        'n_estimators': trial.suggest_int('n_estimators', 100, 500),\n",
    "        'max_depth': trial.suggest_int('max_depth', 3, 10),\n",
    "        'learning_rate': trial.suggest_float('learning_rate', 0.01, 0.2),\n",
    "        'subsample': trial.suggest_float('subsample', 0.6, 1.0),\n",
    "        'colsample_bytree': trial.suggest_float('colsample_bytree', 0.6, 1.0),\n",
    "        'gamma': trial.suggest_float('gamma', 0, 5),\n",
    "        'reg_alpha': trial.suggest_float('reg_alpha', 0, 5),\n",
    "        'reg_lambda': trial.suggest_float('reg_lambda', 0, 5),\n",
    "        'tree_method': 'hist',\n",
    "        'enable_categorical': True,\n",
    "        'random_state': 42,\n",
    "    }\n",
    "\n",
    "    skf = StratifiedKFold(n_splits=5, shuffle=True, random_state=42)\n",
    "    mse_scores = []\n",
    "\n",
    "    y_bins = pd.qcut(y, q=10, duplicates='drop', labels=False)\n",
    "\n",
    "    for train_idx, val_idx in skf.split(X, y_bins):\n",
    "        X_train, X_val = X.iloc[train_idx], X.iloc[val_idx]\n",
    "        y_train, y_val = y.iloc[train_idx], y.iloc[val_idx]\n",
    "\n",
    "        model = XGBRegressor(**params)\n",
    "        model.fit(\n",
    "            X_train, y_train,\n",
    "            eval_set=[(X_val, y_val)],\n",
    "            verbose=False\n",
    "        )\n",
    "\n",
    "\n",
    "        y_pred = model.predict(X_val)\n",
    "        mse = mean_squared_error(y_val, y_pred)\n",
    "        mse_scores.append(mse)\n",
    "\n",
    "    return np.mean(mse_scores)\n",
    "\n",
    "\n",
    "# -------------------------\n",
    "# Uruchomienie Optuny\n",
    "# -------------------------\n",
    "study = optuna.create_study(direction='minimize')\n",
    "study.optimize(objective, n_trials=10)\n",
    "\n",
    "print(\"Najlepsze parametry:\")\n",
    "print(study.best_params)\n",
    "print(f\"Najniższe MSE: {study.best_value:.2f}\")"
   ]
  },
  {
   "cell_type": "code",
   "execution_count": null,
   "id": "8797b71e",
   "metadata": {},
   "outputs": [],
   "source": []
  },
  {
   "cell_type": "code",
   "execution_count": null,
   "id": "8ae77a22",
   "metadata": {},
   "outputs": [],
   "source": []
  },
  {
   "cell_type": "code",
   "execution_count": null,
   "id": "fab8fcfa",
   "metadata": {},
   "outputs": [
    {
     "data": {
      "text/plain": [
       "31609"
      ]
     },
     "execution_count": 118,
     "metadata": {},
     "output_type": "execute_result"
    }
   ],
   "source": [
    "#-------------------------\n",
    "\n",
    "\n",
    "ull_df = pd.concat([training_df, validation_df], ignore_index=True)\n",
    "\n",
    "len(full_df)"
   ]
  },
  {
   "cell_type": "code",
   "execution_count": 119,
   "id": "8e8245a5",
   "metadata": {},
   "outputs": [
    {
     "name": "stdout",
     "output_type": "stream",
     "text": [
      "Index(['DepartureDate', 'DepartureYear', 'DepartureMonth', 'DepartureDay',\n",
      "       'FlightNumber', 'DepartureAirport', 'ArrivalAirport', 'Route',\n",
      "       'ActualFlightTime', 'ActualTotalFuel', 'ActualTOW', 'FLownPassengers',\n",
      "       'BagsCount', 'FlightBagsWeight'],\n",
      "      dtype='object')\n"
     ]
    }
   ],
   "source": [
    "print(full_df.columns)"
   ]
  },
  {
   "cell_type": "code",
   "execution_count": 120,
   "id": "88d8d9cb",
   "metadata": {},
   "outputs": [],
   "source": [
    "full_df.rename(columns={'FLownPassengers': 'FlownPassengers'}, inplace=True)"
   ]
  },
  {
   "cell_type": "code",
   "execution_count": 121,
   "id": "f7a66e3c",
   "metadata": {},
   "outputs": [
    {
     "name": "stdout",
     "output_type": "stream",
     "text": [
      "Index(['DepartureDate', 'DepartureYear', 'DepartureMonth', 'DepartureDay',\n",
      "       'FlightNumber', 'DepartureAirport', 'ArrivalAirport', 'Route',\n",
      "       'ActualFlightTime', 'ActualTotalFuel', 'ActualTOW', 'FlownPassengers',\n",
      "       'BagsCount', 'FlightBagsWeight'],\n",
      "      dtype='object')\n"
     ]
    }
   ],
   "source": [
    "print(full_df.columns)"
   ]
  },
  {
   "cell_type": "code",
   "execution_count": 115,
   "id": "76f30dc5",
   "metadata": {},
   "outputs": [
    {
     "name": "stdout",
     "output_type": "stream",
     "text": [
      "Wiersze z brakami: 1878\n",
      "Wiersze kompletne: 29731\n"
     ]
    }
   ],
   "source": [
    "n_missing_rows = full_df.isnull().any(axis=1).sum()\n",
    "\n",
    "n_complete_rows = full_df.shape[0] - n_missing_rows\n",
    "\n",
    "print(f\"Wiersze z brakami: {n_missing_rows}\")\n",
    "print(f\"Wiersze kompletne: {n_complete_rows}\")"
   ]
  },
  {
   "cell_type": "code",
   "execution_count": 138,
   "id": "5ee94b9d",
   "metadata": {},
   "outputs": [],
   "source": [
    "full_df = full_df.dropna()"
   ]
  },
  {
   "cell_type": "code",
   "execution_count": 134,
   "id": "f986c4eb",
   "metadata": {},
   "outputs": [
    {
     "name": "stdout",
     "output_type": "stream",
     "text": [
      "<class 'pandas.core.frame.DataFrame'>\n",
      "Index: 29731 entries, 0 to 29730\n",
      "Data columns (total 15 columns):\n",
      " #   Column            Non-Null Count  Dtype  \n",
      "---  ------            --------------  -----  \n",
      " 0   DepartureYear     29731 non-null  int64  \n",
      " 1   DepartureMonth    29731 non-null  int64  \n",
      " 2   DepartureDay      29731 non-null  int64  \n",
      " 3   DepartureAirport  29731 non-null  object \n",
      " 4   ArrivalAirport    29731 non-null  object \n",
      " 5   Route             29731 non-null  object \n",
      " 6   ActualFlightTime  29731 non-null  int64  \n",
      " 7   ActualTotalFuel   29731 non-null  int64  \n",
      " 8   ActualTOW         29298 non-null  float64\n",
      " 9   FlownPassengers   29636 non-null  float64\n",
      " 10  BagsCount         27447 non-null  float64\n",
      " 11  FlightBagsWeight  27253 non-null  float64\n",
      " 12  DayOfWeek         29731 non-null  int32  \n",
      " 13  FuelPerMinute     29731 non-null  float64\n",
      " 14  PassengersPerBag  27447 non-null  float64\n",
      "dtypes: float64(6), int32(1), int64(5), object(3)\n",
      "memory usage: 3.5+ MB\n",
      "None\n"
     ]
    }
   ],
   "source": [
    "print(full_df.info())"
   ]
  },
  {
   "cell_type": "code",
   "execution_count": 130,
   "id": "3673b0ce",
   "metadata": {},
   "outputs": [],
   "source": [
    "numeric_columns = ['ActualFlightTime', 'ActualTotalFuel', 'ActualTOW',\n",
    "                   'FlownPassengers', 'BagsCount', 'FlightBagsWeight']\n",
    "\n",
    "for col in numeric_columns:\n",
    "    if col in full_df.columns:\n",
    "        full_df[col] = pd.to_numeric(full_df[col], errors='coerce')"
   ]
  },
  {
   "cell_type": "code",
   "execution_count": 133,
   "id": "4121d061",
   "metadata": {},
   "outputs": [],
   "source": [
    "# Konwersja daty\n",
    "full_df[\"DepartureDate\"] = pd.to_datetime(full_df[\"DepartureDate\"], format=\"%d/%m/%Y\")\n",
    "full_df[\"DayOfWeek\"] = full_df[\"DepartureDate\"].dt.weekday\n",
    "\n",
    "# Inżynieria cech\n",
    "full_df[\"FuelPerMinute\"] = full_df[\"ActualTotalFuel\"] / full_df[\"ActualFlightTime\"]\n",
    "full_df[\"PassengersPerBag\"] = full_df[\"FlownPassengers\"] / full_df[\"BagsCount\"]\n",
    "\n",
    "full_df.drop(columns=[\"DepartureDate\", \"FlightNumber\"], inplace=True)"
   ]
  },
  {
   "cell_type": "code",
   "execution_count": 139,
   "id": "6888feb7",
   "metadata": {},
   "outputs": [
    {
     "name": "stderr",
     "output_type": "stream",
     "text": [
      "[I 2025-05-28 22:48:02,694] A new study created in memory with name: no-name-a5f21e2b-89db-4434-98fc-508cc6984922\n"
     ]
    },
    {
     "name": "stderr",
     "output_type": "stream",
     "text": [
      "[I 2025-05-28 22:48:56,738] Trial 0 finished with value: 8869.071750793457 and parameters: {'n_estimators': 305, 'max_depth': 9, 'learning_rate': 0.1520578228363123, 'subsample': 0.9436184952043354, 'colsample_bytree': 0.6667658279732775, 'gamma': 4.605290923589854, 'reg_alpha': 1.925003338024283, 'reg_lambda': 2.7646539941354495}. Best is trial 0 with value: 8869.071750793457.\n",
      "[I 2025-05-28 22:49:15,286] Trial 1 finished with value: 7753.900690333238 and parameters: {'n_estimators': 121, 'max_depth': 7, 'learning_rate': 0.0694720307540821, 'subsample': 0.9703266268389491, 'colsample_bytree': 0.9564295528602588, 'gamma': 1.4233242221482667, 'reg_alpha': 4.270323110160215, 'reg_lambda': 1.6427397459648552}. Best is trial 1 with value: 7753.900690333238.\n",
      "[I 2025-05-28 22:49:51,828] Trial 2 finished with value: 7355.442410266364 and parameters: {'n_estimators': 274, 'max_depth': 7, 'learning_rate': 0.18159548030678874, 'subsample': 0.9495147512215804, 'colsample_bytree': 0.964639660089963, 'gamma': 4.622013583895988, 'reg_alpha': 1.2642270001593825, 'reg_lambda': 4.584468142269732}. Best is trial 2 with value: 7355.442410266364.\n",
      "[I 2025-05-28 22:50:53,547] Trial 3 finished with value: 27415.049081619607 and parameters: {'n_estimators': 440, 'max_depth': 8, 'learning_rate': 0.021564780819074404, 'subsample': 0.7349614714671797, 'colsample_bytree': 0.7008093866247666, 'gamma': 2.857478684431982, 'reg_alpha': 0.4023635615886456, 'reg_lambda': 1.335636630179634}. Best is trial 2 with value: 7355.442410266364.\n",
      "[I 2025-05-28 22:51:38,351] Trial 4 finished with value: 14207.826390696853 and parameters: {'n_estimators': 314, 'max_depth': 8, 'learning_rate': 0.08224588574476642, 'subsample': 0.7910525945388162, 'colsample_bytree': 0.7256822034122501, 'gamma': 4.592277233933427, 'reg_alpha': 3.1421475189319565, 'reg_lambda': 4.235122915777641}. Best is trial 2 with value: 7355.442410266364.\n",
      "[I 2025-05-28 22:51:51,414] Trial 5 finished with value: 5888.869724402926 and parameters: {'n_estimators': 275, 'max_depth': 4, 'learning_rate': 0.16772290620447017, 'subsample': 0.8494255609237125, 'colsample_bytree': 0.7824489286412841, 'gamma': 4.209883762898073, 'reg_alpha': 2.097540341997139, 'reg_lambda': 0.5372553689541709}. Best is trial 5 with value: 5888.869724402926.\n",
      "[I 2025-05-28 22:52:04,346] Trial 6 finished with value: 5785.0099556134355 and parameters: {'n_estimators': 219, 'max_depth': 5, 'learning_rate': 0.1411825561215788, 'subsample': 0.8658006626539775, 'colsample_bytree': 0.6937932707709107, 'gamma': 2.4903072829619317, 'reg_alpha': 1.4372352553715295, 'reg_lambda': 0.7313232082493942}. Best is trial 6 with value: 5785.0099556134355.\n",
      "[I 2025-05-28 22:53:21,669] Trial 7 finished with value: 7878.317565669729 and parameters: {'n_estimators': 383, 'max_depth': 9, 'learning_rate': 0.16812079064386104, 'subsample': 0.654734650303245, 'colsample_bytree': 0.8752967448335272, 'gamma': 3.2802103514726575, 'reg_alpha': 1.6123256736569695, 'reg_lambda': 0.5914628889514062}. Best is trial 6 with value: 5785.0099556134355.\n",
      "[I 2025-05-28 22:54:56,462] Trial 8 finished with value: 28577.67972136483 and parameters: {'n_estimators': 312, 'max_depth': 10, 'learning_rate': 0.03925020936444532, 'subsample': 0.8272756407162735, 'colsample_bytree': 0.8219667446244054, 'gamma': 0.9286605841637741, 'reg_alpha': 3.7948587086467573, 'reg_lambda': 0.6702548397823538}. Best is trial 6 with value: 5785.0099556134355.\n",
      "[I 2025-05-28 22:55:09,105] Trial 9 finished with value: 14535.753863235019 and parameters: {'n_estimators': 292, 'max_depth': 4, 'learning_rate': 0.03205228960568879, 'subsample': 0.630718062016793, 'colsample_bytree': 0.703836994293655, 'gamma': 4.997580573403718, 'reg_alpha': 2.3159769857165085, 'reg_lambda': 0.9179296610803589}. Best is trial 6 with value: 5785.0099556134355.\n",
      "[I 2025-05-28 22:55:17,054] Trial 10 finished with value: 6915.337574810769 and parameters: {'n_estimators': 146, 'max_depth': 5, 'learning_rate': 0.12759556485002668, 'subsample': 0.8881313856609866, 'colsample_bytree': 0.628795136984083, 'gamma': 1.9436333744537686, 'reg_alpha': 0.12602300192103244, 'reg_lambda': 2.56330824455398}. Best is trial 6 with value: 5785.0099556134355.\n",
      "[I 2025-05-28 22:55:24,926] Trial 11 finished with value: 8847.91448719765 and parameters: {'n_estimators': 206, 'max_depth': 3, 'learning_rate': 0.12861328757701754, 'subsample': 0.8558048509113815, 'colsample_bytree': 0.7863166586334971, 'gamma': 0.0019825887367614925, 'reg_alpha': 2.953437624223602, 'reg_lambda': 0.039799561884753754}. Best is trial 6 with value: 5785.0099556134355.\n",
      "[I 2025-05-28 22:55:38,518] Trial 12 finished with value: 5867.660540088825 and parameters: {'n_estimators': 214, 'max_depth': 5, 'learning_rate': 0.1927551198136674, 'subsample': 0.7564342421585468, 'colsample_bytree': 0.7838332867412083, 'gamma': 3.5173692656734037, 'reg_alpha': 1.0200370283700226, 'reg_lambda': 1.8437514769401924}. Best is trial 6 with value: 5785.0099556134355.\n",
      "[I 2025-05-28 22:55:49,450] Trial 13 finished with value: 5207.795581528393 and parameters: {'n_estimators': 196, 'max_depth': 5, 'learning_rate': 0.19318316832512794, 'subsample': 0.7417459375178047, 'colsample_bytree': 0.6012945945430963, 'gamma': 3.5472908040724995, 'reg_alpha': 0.9320517025766648, 'reg_lambda': 1.9233715233771256}. Best is trial 13 with value: 5207.795581528393.\n",
      "[I 2025-05-28 22:56:03,298] Trial 14 finished with value: 7448.429902279982 and parameters: {'n_estimators': 194, 'max_depth': 6, 'learning_rate': 0.13596500656903043, 'subsample': 0.7248754070509056, 'colsample_bytree': 0.6064280838286564, 'gamma': 2.2650514040911967, 'reg_alpha': 0.7698443530271162, 'reg_lambda': 3.49893605832892}. Best is trial 13 with value: 5207.795581528393.\n",
      "[I 2025-05-28 22:56:12,863] Trial 15 finished with value: 8773.31812824363 and parameters: {'n_estimators': 169, 'max_depth': 5, 'learning_rate': 0.10087893558949519, 'subsample': 0.6721775356150452, 'colsample_bytree': 0.6488083251609414, 'gamma': 3.7642667137494232, 'reg_alpha': 1.1176030621798723, 'reg_lambda': 1.9559187176237716}. Best is trial 13 with value: 5207.795581528393.\n",
      "[I 2025-05-28 22:56:21,745] Trial 16 finished with value: 8223.978850877676 and parameters: {'n_estimators': 238, 'max_depth': 3, 'learning_rate': 0.19874712835982683, 'subsample': 0.9009516983130038, 'colsample_bytree': 0.7338192552500312, 'gamma': 2.7427433611119985, 'reg_alpha': 4.965609742794419, 'reg_lambda': 3.2998232443317717}. Best is trial 13 with value: 5207.795581528393.\n",
      "[I 2025-05-28 22:56:50,158] Trial 17 finished with value: 6562.948236164833 and parameters: {'n_estimators': 379, 'max_depth': 6, 'learning_rate': 0.1504958315103798, 'subsample': 0.7727029990532431, 'colsample_bytree': 0.6672531258049111, 'gamma': 1.8684573281185788, 'reg_alpha': 2.7529899634434596, 'reg_lambda': 0.0031899033966461543}. Best is trial 13 with value: 5207.795581528393.\n",
      "[I 2025-05-28 22:56:55,065] Trial 18 finished with value: 8084.711809482859 and parameters: {'n_estimators': 107, 'max_depth': 4, 'learning_rate': 0.11759102109469838, 'subsample': 0.6892468595780734, 'colsample_bytree': 0.6091304647620503, 'gamma': 3.1065338872741544, 'reg_alpha': 1.6484580700963902, 'reg_lambda': 1.191455031771861}. Best is trial 13 with value: 5207.795581528393.\n",
      "[I 2025-05-28 22:57:15,038] Trial 19 finished with value: 8691.694512115024 and parameters: {'n_estimators': 235, 'max_depth': 6, 'learning_rate': 0.09803931248051354, 'subsample': 0.9989598846149965, 'colsample_bytree': 0.8490413273524462, 'gamma': 3.8789749254097377, 'reg_alpha': 0.5908323922206431, 'reg_lambda': 1.9597379146585971}. Best is trial 13 with value: 5207.795581528393.\n",
      "[I 2025-05-28 22:57:25,420] Trial 20 finished with value: 6496.439929971268 and parameters: {'n_estimators': 164, 'max_depth': 5, 'learning_rate': 0.1718373131044118, 'subsample': 0.711186376314427, 'colsample_bytree': 0.7506886014877543, 'gamma': 2.4255871543218914, 'reg_alpha': 1.4025651546872617, 'reg_lambda': 3.0304900206215013}. Best is trial 13 with value: 5207.795581528393.\n",
      "[I 2025-05-28 22:57:41,035] Trial 21 finished with value: 5494.851596391023 and parameters: {'n_estimators': 227, 'max_depth': 5, 'learning_rate': 0.197423310041715, 'subsample': 0.7629093928850886, 'colsample_bytree': 0.90167588576928, 'gamma': 3.647800555491664, 'reg_alpha': 0.8429291744189444, 'reg_lambda': 2.0810124221143522}. Best is trial 13 with value: 5207.795581528393.\n",
      "[I 2025-05-28 22:57:54,206] Trial 22 finished with value: 5399.92475168712 and parameters: {'n_estimators': 252, 'max_depth': 4, 'learning_rate': 0.1513377730604648, 'subsample': 0.8090055412475325, 'colsample_bytree': 0.9062818490449014, 'gamma': 4.023832492060179, 'reg_alpha': 0.7307144589585757, 'reg_lambda': 2.41652490001321}. Best is trial 13 with value: 5207.795581528393.\n",
      "[I 2025-05-28 22:58:07,682] Trial 23 finished with value: 5682.5578878772785 and parameters: {'n_estimators': 255, 'max_depth': 4, 'learning_rate': 0.18493936151958137, 'subsample': 0.7982199285977961, 'colsample_bytree': 0.9122213940256758, 'gamma': 3.9108673568377297, 'reg_alpha': 0.09875981761790298, 'reg_lambda': 2.3301579613868335}. Best is trial 13 with value: 5207.795581528393.\n",
      "[I 2025-05-28 22:58:22,996] Trial 24 finished with value: 7836.961434401896 and parameters: {'n_estimators': 356, 'max_depth': 3, 'learning_rate': 0.16062310441776226, 'subsample': 0.8284256937747945, 'colsample_bytree': 0.9966936635614103, 'gamma': 4.198959232707287, 'reg_alpha': 0.814222040278346, 'reg_lambda': 2.3184298267801813}. Best is trial 13 with value: 5207.795581528393.\n",
      "[I 2025-05-28 22:58:32,845] Trial 25 finished with value: 5561.253605288036 and parameters: {'n_estimators': 182, 'max_depth': 4, 'learning_rate': 0.17989247991903975, 'subsample': 0.7527185182848694, 'colsample_bytree': 0.8938034526671768, 'gamma': 3.2985567687306094, 'reg_alpha': 0.4978617387075202, 'reg_lambda': 3.7244778045138465}. Best is trial 13 with value: 5207.795581528393.\n",
      "[I 2025-05-28 22:59:17,089] Trial 26 finished with value: 6039.809626743829 and parameters: {'n_estimators': 495, 'max_depth': 6, 'learning_rate': 0.18757924624579608, 'subsample': 0.8105512450567668, 'colsample_bytree': 0.9133114349680722, 'gamma': 3.5895097772162368, 'reg_alpha': 0.05062386877024072, 'reg_lambda': 1.5410543599621958}. Best is trial 13 with value: 5207.795581528393.\n",
      "[I 2025-05-28 22:59:38,853] Trial 27 finished with value: 6202.009267237649 and parameters: {'n_estimators': 334, 'max_depth': 5, 'learning_rate': 0.19957299660910086, 'subsample': 0.703354810716286, 'colsample_bytree': 0.8329268982483496, 'gamma': 4.198929845270993, 'reg_alpha': 1.7949380454023454, 'reg_lambda': 2.9019097042057678}. Best is trial 13 with value: 5207.795581528393.\n",
      "[I 2025-05-28 22:59:49,518] Trial 28 finished with value: 7976.911820998689 and parameters: {'n_estimators': 260, 'max_depth': 3, 'learning_rate': 0.15517659952679436, 'subsample': 0.6001986304094771, 'colsample_bytree': 0.9303249543082205, 'gamma': 2.9804547119037537, 'reg_alpha': 0.9025231913813284, 'reg_lambda': 2.2032388736661113}. Best is trial 13 with value: 5207.795581528393.\n",
      "[I 2025-05-28 23:00:05,666] Trial 29 finished with value: 7050.571827308883 and parameters: {'n_estimators': 132, 'max_depth': 7, 'learning_rate': 0.14478543614851333, 'subsample': 0.7733463884029455, 'colsample_bytree': 0.8692690289056763, 'gamma': 4.617186610232428, 'reg_alpha': 1.9414909177612485, 'reg_lambda': 2.759363775104827}. Best is trial 13 with value: 5207.795581528393.\n"
     ]
    },
    {
     "name": "stdout",
     "output_type": "stream",
     "text": [
      "\n",
      "📌 Najlepsze parametry:\n",
      "{'n_estimators': 196, 'max_depth': 5, 'learning_rate': 0.19318316832512794, 'subsample': 0.7417459375178047, 'colsample_bytree': 0.6012945945430963, 'gamma': 3.5472908040724995, 'reg_alpha': 0.9320517025766648, 'reg_lambda': 1.9233715233771256}\n",
      "📉 Najniższe MSE: 5207.80\n"
     ]
    }
   ],
   "source": [
    "import pandas as pd\n",
    "import numpy as np\n",
    "from sklearn.model_selection import train_test_split\n",
    "from sklearn.model_selection import StratifiedKFold\n",
    "from sklearn.metrics import mean_squared_error\n",
    "from xgboost import XGBRegressor\n",
    "import optuna\n",
    "\n",
    "features = list(full_df.columns)\n",
    "\n",
    "X = full_df[features]\n",
    "y = full_df['ActualTOW']\n",
    "\n",
    "for col in X.select_dtypes(include='object').columns:\n",
    "    X[col] = X[col].astype('category')\n",
    "\n",
    "def objective(trial):\n",
    "    params = {\n",
    "        'n_estimators': trial.suggest_int('n_estimators', 100, 500),\n",
    "        'max_depth': trial.suggest_int('max_depth', 3, 10),\n",
    "        'learning_rate': trial.suggest_float('learning_rate', 0.01, 0.2),\n",
    "        'subsample': trial.suggest_float('subsample', 0.6, 1.0),\n",
    "        'colsample_bytree': trial.suggest_float('colsample_bytree', 0.6, 1.0),\n",
    "        'gamma': trial.suggest_float('gamma', 0, 5),\n",
    "        'reg_alpha': trial.suggest_float('reg_alpha', 0, 5),\n",
    "        'reg_lambda': trial.suggest_float('reg_lambda', 0, 5),\n",
    "        'tree_method': 'hist',\n",
    "        'enable_categorical': True,\n",
    "        'random_state': 42,\n",
    "    }\n",
    "\n",
    "    skf = StratifiedKFold(n_splits=5, shuffle=True, random_state=42)\n",
    "    mse_scores = []\n",
    "\n",
    "    y_bins = pd.qcut(y, q=10, duplicates='drop', labels=False)\n",
    "\n",
    "    for train_idx, val_idx in skf.split(X, y_bins):\n",
    "        X_train, X_val = X.iloc[train_idx], X.iloc[val_idx]\n",
    "        y_train, y_val = y.iloc[train_idx], y.iloc[val_idx]\n",
    "\n",
    "        model = XGBRegressor(**params)\n",
    "        model.fit(\n",
    "            X_train, y_train,\n",
    "            eval_set=[(X_val, y_val)],\n",
    "            verbose=False\n",
    "        )\n",
    "\n",
    "\n",
    "        y_pred = model.predict(X_val)\n",
    "        mse = mean_squared_error(y_val, y_pred)\n",
    "        mse_scores.append(mse)\n",
    "\n",
    "    return np.mean(mse_scores)\n",
    "\n",
    "\n",
    "# -------------------------\n",
    "# Uruchomienie Optuny\n",
    "# -------------------------\n",
    "study = optuna.create_study(direction='minimize')\n",
    "study.optimize(objective, n_trials=30)\n",
    "\n",
    "print(\"\\n📌 Najlepsze parametry:\")\n",
    "print(study.best_params)\n",
    "print(f\"📉 Najniższe MSE: {study.best_value:.2f}\")"
   ]
  },
  {
   "cell_type": "code",
   "execution_count": null,
   "id": "9d5deb14",
   "metadata": {},
   "outputs": [],
   "source": []
  },
  {
   "cell_type": "code",
   "execution_count": null,
   "id": "64cce079",
   "metadata": {},
   "outputs": [],
   "source": []
  },
  {
   "cell_type": "code",
   "execution_count": null,
   "id": "18f98793",
   "metadata": {},
   "outputs": [],
   "source": []
  },
  {
   "cell_type": "code",
   "execution_count": null,
   "id": "ec391c54",
   "metadata": {},
   "outputs": [],
   "source": []
  },
  {
   "cell_type": "code",
   "execution_count": null,
   "id": "51b9cb60",
   "metadata": {},
   "outputs": [],
   "source": []
  },
  {
   "cell_type": "code",
   "execution_count": 66,
   "id": "4798167a",
   "metadata": {},
   "outputs": [],
   "source": [
    "numeric_columns = ['ActualFlightTime', 'ActualTotalFuel', 'ActualTOW',\n",
    "                   'FlownPassengers', 'BagsCount', 'FlightBagsWeight']\n",
    "\n",
    "for col in numeric_columns:\n",
    "    if col in full_df.columns:\n",
    "        full_df[col] = pd.to_numeric(full_df[col], errors='coerce')"
   ]
  },
  {
   "cell_type": "code",
   "execution_count": 68,
   "id": "afe60673",
   "metadata": {},
   "outputs": [
    {
     "name": "stdout",
     "output_type": "stream",
     "text": [
      "Wiersze z brakami: 4809\n",
      "Wiersze kompletne: 26800\n"
     ]
    }
   ],
   "source": [
    "# Liczba wierszy z co najmniej jednym NaN\n",
    "n_missing_rows = full_df.isnull().any(axis=1).sum()\n",
    "\n",
    "# Liczba pełnych wierszy (bez NaN)\n",
    "n_complete_rows = full_df.shape[0] - n_missing_rows\n",
    "\n",
    "print(f\"Wiersze z brakami: {n_missing_rows}\")\n",
    "print(f\"Wiersze kompletne: {n_complete_rows}\")"
   ]
  },
  {
   "cell_type": "code",
   "execution_count": 69,
   "id": "55d12453",
   "metadata": {},
   "outputs": [],
   "source": [
    "full_df = full_df.dropna()"
   ]
  },
  {
   "cell_type": "code",
   "execution_count": 70,
   "id": "4a214d2b",
   "metadata": {},
   "outputs": [
    {
     "name": "stdout",
     "output_type": "stream",
     "text": [
      "<class 'pandas.core.frame.DataFrame'>\n",
      "Index: 26800 entries, 0 to 29730\n",
      "Data columns (total 14 columns):\n",
      " #   Column            Non-Null Count  Dtype  \n",
      "---  ------            --------------  -----  \n",
      " 0   DepartureDate     26800 non-null  object \n",
      " 1   DepartureYear     26800 non-null  int64  \n",
      " 2   DepartureMonth    26800 non-null  int64  \n",
      " 3   DepartureDay      26800 non-null  int64  \n",
      " 4   FlightNumber      26800 non-null  int64  \n",
      " 5   DepartureAirport  26800 non-null  object \n",
      " 6   ArrivalAirport    26800 non-null  object \n",
      " 7   Route             26800 non-null  object \n",
      " 8   ActualFlightTime  26800 non-null  int64  \n",
      " 9   ActualTotalFuel   26800 non-null  int64  \n",
      " 10  ActualTOW         26800 non-null  float64\n",
      " 11  FlownPassengers   26800 non-null  float64\n",
      " 12  BagsCount         26800 non-null  float64\n",
      " 13  FlightBagsWeight  26800 non-null  float64\n",
      "dtypes: float64(4), int64(6), object(4)\n",
      "memory usage: 3.1+ MB\n",
      "None\n"
     ]
    }
   ],
   "source": [
    "print(full_df.info())"
   ]
  },
  {
   "cell_type": "code",
   "execution_count": 72,
   "id": "c83106da",
   "metadata": {},
   "outputs": [],
   "source": [
    "full_df['DepartureDate'] = pd.to_datetime(full_df['DepartureDate'], dayfirst=True)\n",
    "full_df['DayOfWeek'] = full_df['DepartureDate'].dt.dayofweek"
   ]
  },
  {
   "cell_type": "code",
   "execution_count": 76,
   "id": "8ebdf65a",
   "metadata": {},
   "outputs": [
    {
     "name": "stdout",
     "output_type": "stream",
     "text": [
      "<class 'pandas.core.frame.DataFrame'>\n",
      "Index: 26800 entries, 0 to 29730\n",
      "Data columns (total 12 columns):\n",
      " #   Column            Non-Null Count  Dtype  \n",
      "---  ------            --------------  -----  \n",
      " 0   DepartureYear     26800 non-null  int64  \n",
      " 1   DepartureMonth    26800 non-null  int64  \n",
      " 2   DepartureDay      26800 non-null  int64  \n",
      " 3   FlightNumber      26800 non-null  int64  \n",
      " 4   Route             26800 non-null  object \n",
      " 5   ActualFlightTime  26800 non-null  int64  \n",
      " 6   ActualTotalFuel   26800 non-null  int64  \n",
      " 7   ActualTOW         26800 non-null  float64\n",
      " 8   FlownPassengers   26800 non-null  float64\n",
      " 9   BagsCount         26800 non-null  float64\n",
      " 10  FlightBagsWeight  26800 non-null  float64\n",
      " 11  DayOfWeek         26800 non-null  int32  \n",
      "dtypes: float64(4), int32(1), int64(6), object(1)\n",
      "memory usage: 2.6+ MB\n",
      "None\n"
     ]
    }
   ],
   "source": [
    "print(full_df.info())"
   ]
  },
  {
   "cell_type": "code",
   "execution_count": 75,
   "id": "0341b7cd",
   "metadata": {},
   "outputs": [],
   "source": [
    "full_df = full_df.drop(columns=['DepartureAirport', 'ArrivalAirport', 'DepartureDate'])"
   ]
  },
  {
   "cell_type": "code",
   "execution_count": 77,
   "id": "f4c13894",
   "metadata": {},
   "outputs": [],
   "source": [
    "for col in X.select_dtypes(include='object').columns:\n",
    "    X[col] = X[col].astype('category')"
   ]
  },
  {
   "cell_type": "code",
   "execution_count": 82,
   "id": "cd9f2bc5",
   "metadata": {},
   "outputs": [
    {
     "name": "stdout",
     "output_type": "stream",
     "text": [
      "Fold 1 MSE: 793179.01\n",
      "Fold 2 MSE: 837396.65\n",
      "Fold 3 MSE: 836821.61\n",
      "Fold 4 MSE: 823613.83\n",
      "Fold 5 MSE: 780310.27\n",
      "\n",
      "Średni błąd MSE: 814264.27\n"
     ]
    }
   ],
   "source": [
    "import pandas as pd\n",
    "import numpy as np\n",
    "from sklearn.model_selection import KFold\n",
    "from sklearn.metrics import mean_squared_error\n",
    "from xgboost import XGBRegressor\n",
    "\n",
    "features = [\n",
    "    'DepartureYear', 'DepartureMonth', 'DepartureDay', 'DayOfWeek',\n",
    "    'ActualFlightTime', 'ActualTotalFuel', 'FlownPassengers',\n",
    "    'BagsCount', 'FlightBagsWeight'\n",
    "]\n",
    "\n",
    "X = full_df[features]\n",
    "y = full_df['ActualTOW']\n",
    "\n",
    "# Inicjalizacja modelu regresyjnego\n",
    "#model = XGBRegressor(enable_categorical=True, tree_method=\"hist\")\n",
    "\n",
    "model = XGBRegressor(\n",
    "    n_estimators=300,\n",
    "    max_depth=5,\n",
    "    learning_rate=0.05,\n",
    "    subsample=0.8,\n",
    "    colsample_bytree=0.8,\n",
    "    tree_method=\"hist\",\n",
    "    enable_categorical=True,\n",
    "    random_state=42\n",
    ")\n",
    "\n",
    "\n",
    "# Zwykła walidacja k-krotna\n",
    "kf = KFold(n_splits=5, shuffle=True, random_state=42)\n",
    "\n",
    "scores = []\n",
    "\n",
    "for fold, (train_idx, val_idx) in enumerate(kf.split(X)):\n",
    "    X_train, X_val = X.iloc[train_idx], X.iloc[val_idx]\n",
    "    y_train, y_val = y.iloc[train_idx], y.iloc[val_idx]\n",
    "    \n",
    "    model.fit(X_train, y_train)\n",
    "    \n",
    "    y_pred = model.predict(X_val)\n",
    "    \n",
    "    mse = mean_squared_error(y_val, y_pred)\n",
    "    scores.append(mse)\n",
    "    print(f\"Fold {fold + 1} MSE: {mse:.2f}\")\n",
    "\n",
    "print(f\"\\nŚredni błąd MSE: {np.mean(scores):.2f}\")\n"
   ]
  },
  {
   "cell_type": "code",
   "execution_count": 81,
   "id": "3f0998ce",
   "metadata": {},
   "outputs": [
    {
     "name": "stdout",
     "output_type": "stream",
     "text": [
      "Min TOW: 49322, Max TOW: 74283, Średni TOW: 65084\n"
     ]
    }
   ],
   "source": [
    "print(f\"Min TOW: {y.min():.0f}, Max TOW: {y.max():.0f}, Średni TOW: {y.mean():.0f}\")"
   ]
  },
  {
   "cell_type": "code",
   "execution_count": null,
   "id": "5d0c1136",
   "metadata": {},
   "outputs": [],
   "source": [
    "import optuna\n",
    "import pandas as pd\n",
    "import numpy as np\n",
    "from sklearn.model_selection import KFold\n",
    "from sklearn.metrics import mean_squared_error\n",
    "from xgboost import XGBRegressor\n",
    "\n"
   ]
  },
  {
   "cell_type": "code",
   "execution_count": 88,
   "id": "a752c86b",
   "metadata": {},
   "outputs": [
    {
     "name": "stderr",
     "output_type": "stream",
     "text": [
      "[I 2025-05-28 21:58:06,458] A new study created in memory with name: no-name-a9dbe207-0965-4bad-910c-65e5b33a2f59\n"
     ]
    },
    {
     "name": "stderr",
     "output_type": "stream",
     "text": [
      "[I 2025-05-28 21:58:08,556] Trial 0 finished with value: 818975.247753096 and parameters: {'n_estimators': 183, 'max_depth': 5, 'learning_rate': 0.1871097085334947, 'subsample': 0.9042959834088742, 'colsample_bytree': 0.7498192823830607, 'gamma': 2.981989317274975, 'reg_alpha': 2.7227131089617163, 'reg_lambda': 4.224067016392835}. Best is trial 0 with value: 818975.247753096.\n",
      "[I 2025-05-28 21:58:12,856] Trial 1 finished with value: 806993.824973017 and parameters: {'n_estimators': 366, 'max_depth': 6, 'learning_rate': 0.039937061239950264, 'subsample': 0.73845597918649, 'colsample_bytree': 0.9295915019243176, 'gamma': 4.083115955179538, 'reg_alpha': 3.355729959298141, 'reg_lambda': 3.0397308905776836}. Best is trial 1 with value: 806993.824973017.\n",
      "[I 2025-05-28 21:58:16,972] Trial 2 finished with value: 812906.324994175 and parameters: {'n_estimators': 483, 'max_depth': 4, 'learning_rate': 0.04297111651943098, 'subsample': 0.9509715460272262, 'colsample_bytree': 0.9239411831558368, 'gamma': 0.6305397587097689, 'reg_alpha': 1.3753015133785007, 'reg_lambda': 0.4847466642250875}. Best is trial 1 with value: 806993.824973017.\n",
      "[I 2025-05-28 21:58:20,903] Trial 3 finished with value: 808907.2481258591 and parameters: {'n_estimators': 451, 'max_depth': 4, 'learning_rate': 0.1298896725957761, 'subsample': 0.9589082789419291, 'colsample_bytree': 0.761291231497194, 'gamma': 2.2609737738736895, 'reg_alpha': 4.914801539105412, 'reg_lambda': 1.4577971392051492}. Best is trial 1 with value: 806993.824973017.\n",
      "[I 2025-05-28 21:58:27,221] Trial 4 finished with value: 863742.1458931111 and parameters: {'n_estimators': 190, 'max_depth': 9, 'learning_rate': 0.09544783381069724, 'subsample': 0.666129073677008, 'colsample_bytree': 0.6449337930390754, 'gamma': 4.474236001236548, 'reg_alpha': 1.3513416539277983, 'reg_lambda': 4.249278050662006}. Best is trial 1 with value: 806993.824973017.\n",
      "[I 2025-05-28 21:58:32,537] Trial 5 finished with value: 803676.4682639507 and parameters: {'n_estimators': 438, 'max_depth': 4, 'learning_rate': 0.07835094860523666, 'subsample': 0.9809369411895257, 'colsample_bytree': 0.8619645336655297, 'gamma': 0.1744048285449401, 'reg_alpha': 1.2379572990526007, 'reg_lambda': 2.8251831290529394}. Best is trial 5 with value: 803676.4682639507.\n",
      "[I 2025-05-28 21:58:35,303] Trial 6 finished with value: 910175.5191782076 and parameters: {'n_estimators': 127, 'max_depth': 7, 'learning_rate': 0.04847551120089627, 'subsample': 0.78026509241627, 'colsample_bytree': 0.6637362097717557, 'gamma': 3.1812189441533545, 'reg_alpha': 0.8615384763834061, 'reg_lambda': 0.6061923768394301}. Best is trial 5 with value: 803676.4682639507.\n",
      "[I 2025-05-28 21:58:41,369] Trial 7 finished with value: 805728.2581335056 and parameters: {'n_estimators': 442, 'max_depth': 5, 'learning_rate': 0.05996225179324519, 'subsample': 0.8802537160057176, 'colsample_bytree': 0.854920835856238, 'gamma': 0.1863068939261442, 'reg_alpha': 1.4788205381661157, 'reg_lambda': 4.3236437003717825}. Best is trial 5 with value: 803676.4682639507.\n",
      "[I 2025-05-28 21:58:45,402] Trial 8 finished with value: 813504.2206060262 and parameters: {'n_estimators': 376, 'max_depth': 3, 'learning_rate': 0.15843230503551695, 'subsample': 0.8393137257739028, 'colsample_bytree': 0.771901167928241, 'gamma': 2.6661674402246467, 'reg_alpha': 4.844586084457327, 'reg_lambda': 0.5106294007292378}. Best is trial 5 with value: 803676.4682639507.\n",
      "[I 2025-05-28 21:58:51,434] Trial 9 finished with value: 939112.1463547887 and parameters: {'n_estimators': 127, 'max_depth': 10, 'learning_rate': 0.1972261903518832, 'subsample': 0.657987695807718, 'colsample_bytree': 0.9279398939896422, 'gamma': 2.4357550356773894, 'reg_alpha': 0.9971200342788666, 'reg_lambda': 2.6749178807752276}. Best is trial 5 with value: 803676.4682639507.\n",
      "[I 2025-05-28 21:58:57,629] Trial 10 finished with value: 835560.8482949772 and parameters: {'n_estimators': 299, 'max_depth': 7, 'learning_rate': 0.09423605099844298, 'subsample': 0.9967756606891393, 'colsample_bytree': 0.9976041666747579, 'gamma': 1.2265889841438167, 'reg_alpha': 0.10058163466653935, 'reg_lambda': 1.5920148837998982}. Best is trial 5 with value: 803676.4682639507.\n",
      "[I 2025-05-28 21:59:03,383] Trial 11 finished with value: 803392.006503675 and parameters: {'n_estimators': 411, 'max_depth': 5, 'learning_rate': 0.07502314337610583, 'subsample': 0.8590781412062897, 'colsample_bytree': 0.8523982747742388, 'gamma': 0.11062947175871786, 'reg_alpha': 2.1276494541663147, 'reg_lambda': 4.8181391597355905}. Best is trial 11 with value: 803392.006503675.\n",
      "[I 2025-05-28 21:59:07,449] Trial 12 finished with value: 828572.0872009477 and parameters: {'n_estimators': 369, 'max_depth': 3, 'learning_rate': 0.07627357963915707, 'subsample': 0.8333553882686059, 'colsample_bytree': 0.837791592927552, 'gamma': 1.2844425856594555, 'reg_alpha': 2.23969038512527, 'reg_lambda': 4.885249312160109}. Best is trial 11 with value: 803392.006503675.\n",
      "[I 2025-05-28 21:59:12,765] Trial 13 finished with value: 922516.2610844899 and parameters: {'n_estimators': 298, 'max_depth': 6, 'learning_rate': 0.012394468070289794, 'subsample': 0.9059570140173909, 'colsample_bytree': 0.8543029681507003, 'gamma': 0.03705975324588684, 'reg_alpha': 2.41110426696769, 'reg_lambda': 3.3317284798812925}. Best is trial 11 with value: 803392.006503675.\n",
      "[I 2025-05-28 21:59:18,415] Trial 14 finished with value: 819490.1538432653 and parameters: {'n_estimators': 403, 'max_depth': 5, 'learning_rate': 0.12300333756395979, 'subsample': 0.7501021612228818, 'colsample_bytree': 0.7020869929341611, 'gamma': 1.3059654641219969, 'reg_alpha': 3.3056411145989544, 'reg_lambda': 1.7495850302167282}. Best is trial 11 with value: 803392.006503675.\n",
      "[I 2025-05-28 21:59:21,825] Trial 15 finished with value: 823427.393997812 and parameters: {'n_estimators': 255, 'max_depth': 4, 'learning_rate': 0.07479371181992131, 'subsample': 0.996450339149657, 'colsample_bytree': 0.8242536912924969, 'gamma': 0.6643858043622621, 'reg_alpha': 0.3010775909381964, 'reg_lambda': 3.491558452206317}. Best is trial 11 with value: 803392.006503675.\n",
      "[I 2025-05-28 21:59:34,612] Trial 16 finished with value: 908173.8274498949 and parameters: {'n_estimators': 496, 'max_depth': 8, 'learning_rate': 0.12094313034258075, 'subsample': 0.8423031203657523, 'colsample_bytree': 0.8825115498676029, 'gamma': 1.9197694049069036, 'reg_alpha': 2.126264427459261, 'reg_lambda': 2.153477532909444}. Best is trial 11 with value: 803392.006503675.\n",
      "[I 2025-05-28 21:59:39,228] Trial 17 finished with value: 963973.0133410087 and parameters: {'n_estimators': 424, 'max_depth': 3, 'learning_rate': 0.02149072076710984, 'subsample': 0.9386836651937689, 'colsample_bytree': 0.9952505681036898, 'gamma': 0.6926247774948078, 'reg_alpha': 4.03666434071516, 'reg_lambda': 4.843231687824475}. Best is trial 11 with value: 803392.006503675.\n",
      "[I 2025-05-28 21:59:44,078] Trial 18 finished with value: 805990.9037585563 and parameters: {'n_estimators': 338, 'max_depth': 5, 'learning_rate': 0.0770541597636644, 'subsample': 0.6027883696107695, 'colsample_bytree': 0.799601398179322, 'gamma': 1.7784906418300093, 'reg_alpha': 1.8557807087333809, 'reg_lambda': 3.731065898638139}. Best is trial 11 with value: 803392.006503675.\n",
      "[I 2025-05-28 21:59:51,793] Trial 19 finished with value: 855462.3414420912 and parameters: {'n_estimators': 461, 'max_depth': 6, 'learning_rate': 0.14799674255252854, 'subsample': 0.8782380352615767, 'colsample_bytree': 0.8760734847069181, 'gamma': 3.555444281851314, 'reg_alpha': 2.794761993383493, 'reg_lambda': 2.5690546781153256}. Best is trial 11 with value: 803392.006503675.\n",
      "[I 2025-05-28 21:59:56,859] Trial 20 finished with value: 825301.6043429684 and parameters: {'n_estimators': 406, 'max_depth': 4, 'learning_rate': 0.10216318418790654, 'subsample': 0.7957812920455093, 'colsample_bytree': 0.6004452559132791, 'gamma': 0.0014282729022524893, 'reg_alpha': 0.7302495634617467, 'reg_lambda': 0.031239243087830992}. Best is trial 11 with value: 803392.006503675.\n",
      "[I 2025-05-28 22:00:03,142] Trial 21 finished with value: 803414.2464734608 and parameters: {'n_estimators': 441, 'max_depth': 5, 'learning_rate': 0.058460676285407284, 'subsample': 0.8735035777756903, 'colsample_bytree': 0.8977269367859507, 'gamma': 0.3578830419095361, 'reg_alpha': 1.5731242943285186, 'reg_lambda': 4.24022439772836}. Best is trial 11 with value: 803392.006503675.\n",
      "[I 2025-05-28 22:00:08,898] Trial 22 finished with value: 805182.6473562086 and parameters: {'n_estimators': 412, 'max_depth': 5, 'learning_rate': 0.062268340467920305, 'subsample': 0.9195259083890984, 'colsample_bytree': 0.9003454945683529, 'gamma': 0.520055545398647, 'reg_alpha': 1.742617263224618, 'reg_lambda': 3.8863230115357847}. Best is trial 11 with value: 803392.006503675.\n",
      "[I 2025-05-28 22:00:13,174] Trial 23 finished with value: 873004.2196711178 and parameters: {'n_estimators': 340, 'max_depth': 4, 'learning_rate': 0.030517534734397115, 'subsample': 0.8614404574215585, 'colsample_bytree': 0.798675218401494, 'gamma': 1.2210699136171046, 'reg_alpha': 0.43734836303429514, 'reg_lambda': 4.98571514143239}. Best is trial 11 with value: 803392.006503675.\n",
      "[I 2025-05-28 22:00:21,072] Trial 24 finished with value: 819934.1347635065 and parameters: {'n_estimators': 472, 'max_depth': 6, 'learning_rate': 0.08466489581965353, 'subsample': 0.8150818163876167, 'colsample_bytree': 0.9610104387630409, 'gamma': 0.8652825815035271, 'reg_alpha': 1.8429587632983395, 'reg_lambda': 4.510027728449949}. Best is trial 11 with value: 803392.006503675.\n",
      "[I 2025-05-28 22:00:31,495] Trial 25 finished with value: 828680.1832135101 and parameters: {'n_estimators': 499, 'max_depth': 7, 'learning_rate': 0.060648410658859356, 'subsample': 0.9724807033640678, 'colsample_bytree': 0.9031806712499424, 'gamma': 0.41356033213063603, 'reg_alpha': 1.0360110038709411, 'reg_lambda': 3.004899879276773}. Best is trial 11 with value: 803392.006503675.\n",
      "[I 2025-05-28 22:00:37,570] Trial 26 finished with value: 811404.9158836218 and parameters: {'n_estimators': 436, 'max_depth': 5, 'learning_rate': 0.11485011169038808, 'subsample': 0.925501026917465, 'colsample_bytree': 0.9576369645682468, 'gamma': 0.9434253238025251, 'reg_alpha': 3.0991500638731795, 'reg_lambda': 3.965190384656325}. Best is trial 11 with value: 803392.006503675.\n",
      "[I 2025-05-28 22:00:40,670] Trial 27 finished with value: 894528.2599860303 and parameters: {'n_estimators': 261, 'max_depth': 3, 'learning_rate': 0.05456352811593574, 'subsample': 0.8865201581382438, 'colsample_bytree': 0.822446985926173, 'gamma': 1.7674834467708656, 'reg_alpha': 1.580201308535543, 'reg_lambda': 2.149782594015609}. Best is trial 11 with value: 803392.006503675.\n",
      "[I 2025-05-28 22:00:45,519] Trial 28 finished with value: 810587.577119948 and parameters: {'n_estimators': 397, 'max_depth': 4, 'learning_rate': 0.08835305356694456, 'subsample': 0.7677328695554098, 'colsample_bytree': 0.7279100673991411, 'gamma': 0.37340811564244025, 'reg_alpha': 2.072065411271228, 'reg_lambda': 4.495629484532778}. Best is trial 11 with value: 803392.006503675.\n",
      "[I 2025-05-28 22:00:50,269] Trial 29 finished with value: 806860.3790832115 and parameters: {'n_estimators': 333, 'max_depth': 5, 'learning_rate': 0.0696209247923387, 'subsample': 0.7286879558907913, 'colsample_bytree': 0.8655989113793661, 'gamma': 1.0298755741014343, 'reg_alpha': 2.6746929776121307, 'reg_lambda': 3.4862242958505743}. Best is trial 11 with value: 803392.006503675.\n"
     ]
    },
    {
     "name": "stdout",
     "output_type": "stream",
     "text": [
      "\n",
      "📌 Najlepsze parametry:\n",
      "{'n_estimators': 411, 'max_depth': 5, 'learning_rate': 0.07502314337610583, 'subsample': 0.8590781412062897, 'colsample_bytree': 0.8523982747742388, 'gamma': 0.11062947175871786, 'reg_alpha': 2.1276494541663147, 'reg_lambda': 4.8181391597355905}\n",
      "📉 Najniższe MSE: 803392.01\n"
     ]
    }
   ],
   "source": [
    "import pandas as pd\n",
    "import numpy as np\n",
    "from sklearn.model_selection import StratifiedKFold\n",
    "from sklearn.metrics import mean_squared_error\n",
    "from xgboost import XGBRegressor\n",
    "import optuna\n",
    "\n",
    "features = [\n",
    "    'DepartureYear', 'DepartureMonth', 'DepartureDay', 'DayOfWeek',\n",
    "    'ActualFlightTime', 'ActualTotalFuel', 'FlownPassengers',\n",
    "    'BagsCount', 'FlightBagsWeight'\n",
    "]\n",
    "\n",
    "X = full_df[features]\n",
    "y = full_df['ActualTOW']\n",
    "\n",
    "\n",
    "def objective(trial):\n",
    "    params = {\n",
    "        'n_estimators': trial.suggest_int('n_estimators', 100, 500),\n",
    "        'max_depth': trial.suggest_int('max_depth', 3, 10),\n",
    "        'learning_rate': trial.suggest_float('learning_rate', 0.01, 0.2),\n",
    "        'subsample': trial.suggest_float('subsample', 0.6, 1.0),\n",
    "        'colsample_bytree': trial.suggest_float('colsample_bytree', 0.6, 1.0),\n",
    "        'gamma': trial.suggest_float('gamma', 0, 5),\n",
    "        'reg_alpha': trial.suggest_float('reg_alpha', 0, 5),\n",
    "        'reg_lambda': trial.suggest_float('reg_lambda', 0, 5),\n",
    "        'tree_method': 'hist',\n",
    "        'enable_categorical': True,\n",
    "        'random_state': 42,\n",
    "    }\n",
    "\n",
    "    skf = StratifiedKFold(n_splits=5, shuffle=True, random_state=42)\n",
    "    mse_scores = []\n",
    "\n",
    "    y_bins = pd.qcut(y, q=10, duplicates='drop', labels=False)\n",
    "\n",
    "    for train_idx, val_idx in skf.split(X, y_bins):\n",
    "        X_train, X_val = X.iloc[train_idx], X.iloc[val_idx]\n",
    "        y_train, y_val = y.iloc[train_idx], y.iloc[val_idx]\n",
    "\n",
    "        model = XGBRegressor(**params)\n",
    "        model.fit(\n",
    "            X_train, y_train,\n",
    "            eval_set=[(X_val, y_val)],\n",
    "            verbose=False\n",
    "        )\n",
    "\n",
    "\n",
    "        y_pred = model.predict(X_val)\n",
    "        mse = mean_squared_error(y_val, y_pred)\n",
    "        mse_scores.append(mse)\n",
    "\n",
    "    return np.mean(mse_scores)\n",
    "\n",
    "\n",
    "# -------------------------\n",
    "# Uruchomienie Optuny\n",
    "# -------------------------\n",
    "study = optuna.create_study(direction='minimize')\n",
    "study.optimize(objective, n_trials=30)\n",
    "\n",
    "print(\"\\n📌 Najlepsze parametry:\")\n",
    "print(study.best_params)\n",
    "print(f\"📉 Najniższe MSE: {study.best_value:.2f}\")\n"
   ]
  },
  {
   "cell_type": "code",
   "execution_count": 90,
   "id": "c5eb11f2",
   "metadata": {},
   "outputs": [
    {
     "name": "stderr",
     "output_type": "stream",
     "text": [
      "[I 2025-05-28 22:08:12,384] A new study created in memory with name: no-name-d06bcea5-e0ac-44fd-881e-d628a79154b2\n"
     ]
    },
    {
     "name": "stderr",
     "output_type": "stream",
     "text": [
      "[I 2025-05-28 22:08:15,984] Trial 0 finished with value: 829954.340929941 and parameters: {'n_estimators': 354, 'max_depth': 3, 'learning_rate': 0.0969591085379226, 'subsample': 0.6216135651619114, 'colsample_bytree': 0.6171583069502731, 'gamma': 4.162770894732966, 'reg_alpha': 4.601536203636961, 'reg_lambda': 4.466017686034642}. Best is trial 0 with value: 829954.340929941.\n",
      "[I 2025-05-28 22:08:20,704] Trial 1 finished with value: 882154.4939544324 and parameters: {'n_estimators': 124, 'max_depth': 9, 'learning_rate': 0.1718100112124136, 'subsample': 0.9347605479960591, 'colsample_bytree': 0.7026673077455887, 'gamma': 4.760438625164005, 'reg_alpha': 0.09434147432140605, 'reg_lambda': 4.066794370043077}. Best is trial 0 with value: 829954.340929941.\n",
      "[I 2025-05-28 22:08:23,266] Trial 2 finished with value: 829268.074120743 and parameters: {'n_estimators': 172, 'max_depth': 6, 'learning_rate': 0.13302756266121507, 'subsample': 0.7021152452548937, 'colsample_bytree': 0.7174583172706741, 'gamma': 2.323061066615275, 'reg_alpha': 1.3045850604649294, 'reg_lambda': 1.5426508316760663}. Best is trial 2 with value: 829268.074120743.\n",
      "[I 2025-05-28 22:08:52,437] Trial 3 finished with value: 947498.6844508225 and parameters: {'n_estimators': 374, 'max_depth': 10, 'learning_rate': 0.1477054731310545, 'subsample': 0.7282491341170269, 'colsample_bytree': 0.7824407210528329, 'gamma': 4.827526958119038, 'reg_alpha': 0.5702222502294063, 'reg_lambda': 1.738476137306968}. Best is trial 2 with value: 829268.074120743.\n",
      "[I 2025-05-28 22:08:58,689] Trial 4 finished with value: 829271.141507783 and parameters: {'n_estimators': 184, 'max_depth': 7, 'learning_rate': 0.09865050495455498, 'subsample': 0.9626628729781391, 'colsample_bytree': 0.6331120533908312, 'gamma': 1.3715277252374958, 'reg_alpha': 0.11346685868650064, 'reg_lambda': 4.451931938642531}. Best is trial 2 with value: 829268.074120743.\n",
      "[I 2025-05-28 22:09:16,535] Trial 5 finished with value: 901523.7009156464 and parameters: {'n_estimators': 343, 'max_depth': 9, 'learning_rate': 0.11119793864460731, 'subsample': 0.631445886805529, 'colsample_bytree': 0.771925246788674, 'gamma': 4.058031945749373, 'reg_alpha': 0.5474806514592062, 'reg_lambda': 3.0032461006486093}. Best is trial 2 with value: 829268.074120743.\n",
      "[I 2025-05-28 22:09:22,741] Trial 6 finished with value: 815073.5768915943 and parameters: {'n_estimators': 292, 'max_depth': 6, 'learning_rate': 0.10910178438141556, 'subsample': 0.991567184857761, 'colsample_bytree': 0.6190442310699388, 'gamma': 2.55057443696534, 'reg_alpha': 3.890336738742717, 'reg_lambda': 3.8355865946062457}. Best is trial 6 with value: 815073.5768915943.\n",
      "[I 2025-05-28 22:09:36,169] Trial 7 finished with value: 886298.3050500039 and parameters: {'n_estimators': 315, 'max_depth': 8, 'learning_rate': 0.13272563250042366, 'subsample': 0.9764545515662248, 'colsample_bytree': 0.9966516139817304, 'gamma': 3.1974591839774087, 'reg_alpha': 4.679015654863802, 'reg_lambda': 0.6831009960787071}. Best is trial 6 with value: 815073.5768915943.\n",
      "[I 2025-05-28 22:09:58,658] Trial 8 finished with value: 879677.8788257701 and parameters: {'n_estimators': 327, 'max_depth': 10, 'learning_rate': 0.09869129957546473, 'subsample': 0.9975386924971603, 'colsample_bytree': 0.6913544491284028, 'gamma': 1.025331778827367, 'reg_alpha': 2.0792025153449045, 'reg_lambda': 4.280650073669947}. Best is trial 6 with value: 815073.5768915943.\n",
      "[I 2025-05-28 22:10:05,985] Trial 9 finished with value: 807147.035008148 and parameters: {'n_estimators': 325, 'max_depth': 5, 'learning_rate': 0.09345976517264448, 'subsample': 0.9631898235018356, 'colsample_bytree': 0.851248028082598, 'gamma': 0.015930123700269583, 'reg_alpha': 3.8245382677204613, 'reg_lambda': 1.9738256008820199}. Best is trial 9 with value: 807147.035008148.\n",
      "[I 2025-05-28 22:10:15,854] Trial 10 finished with value: 838724.8063455684 and parameters: {'n_estimators': 476, 'max_depth': 4, 'learning_rate': 0.028180886327585558, 'subsample': 0.8788852428760965, 'colsample_bytree': 0.907383413772921, 'gamma': 0.2296887693946985, 'reg_alpha': 3.2972469429237976, 'reg_lambda': 0.13014564287005115}. Best is trial 9 with value: 807147.035008148.\n",
      "[I 2025-05-28 22:10:20,699] Trial 11 finished with value: 817623.9114660667 and parameters: {'n_estimators': 244, 'max_depth': 5, 'learning_rate': 0.05553164247733683, 'subsample': 0.8606359707499527, 'colsample_bytree': 0.8729516169049286, 'gamma': 2.535646897879561, 'reg_alpha': 3.5551573057046615, 'reg_lambda': 3.0146551837266755}. Best is trial 9 with value: 807147.035008148.\n",
      "[I 2025-05-28 22:10:29,927] Trial 12 finished with value: 810886.1067018544 and parameters: {'n_estimators': 426, 'max_depth': 6, 'learning_rate': 0.06704903897860637, 'subsample': 0.8872849315948753, 'colsample_bytree': 0.864270953385228, 'gamma': 0.0050386357417435135, 'reg_alpha': 3.68230325110903, 'reg_lambda': 2.248412835017585}. Best is trial 9 with value: 807147.035008148.\n",
      "[I 2025-05-28 22:10:38,413] Trial 13 finished with value: 803766.2935954165 and parameters: {'n_estimators': 424, 'max_depth': 5, 'learning_rate': 0.049040211816386056, 'subsample': 0.8694392853807862, 'colsample_bytree': 0.8591852803970033, 'gamma': 0.24185416105514035, 'reg_alpha': 2.693838669193224, 'reg_lambda': 2.071753441550316}. Best is trial 13 with value: 803766.2935954165.\n",
      "[I 2025-05-28 22:10:45,040] Trial 14 finished with value: 831713.3530415567 and parameters: {'n_estimators': 418, 'max_depth': 4, 'learning_rate': 0.03343042498133871, 'subsample': 0.7908532492878647, 'colsample_bytree': 0.9450607570750786, 'gamma': 1.0725625394574465, 'reg_alpha': 2.70403161443533, 'reg_lambda': 1.2041472536328388}. Best is trial 13 with value: 803766.2935954165.\n",
      "[I 2025-05-28 22:10:53,321] Trial 15 finished with value: 926899.874973239 and parameters: {'n_estimators': 474, 'max_depth': 5, 'learning_rate': 0.010225153324311696, 'subsample': 0.8155273989666713, 'colsample_bytree': 0.8335632366824327, 'gamma': 0.5676390684605032, 'reg_alpha': 2.3878730021896795, 'reg_lambda': 2.5095284455462945}. Best is trial 13 with value: 803766.2935954165.\n",
      "[I 2025-05-28 22:10:56,656] Trial 16 finished with value: 855877.1775700155 and parameters: {'n_estimators': 251, 'max_depth': 3, 'learning_rate': 0.07086807894495306, 'subsample': 0.9198381568263287, 'colsample_bytree': 0.8186415936649594, 'gamma': 1.8167778201090616, 'reg_alpha': 2.9454550535942583, 'reg_lambda': 2.147100498864268}. Best is trial 13 with value: 803766.2935954165.\n",
      "[I 2025-05-28 22:11:04,163] Trial 17 finished with value: 841683.5306351356 and parameters: {'n_estimators': 405, 'max_depth': 5, 'learning_rate': 0.19973220978557937, 'subsample': 0.8278167855521634, 'colsample_bytree': 0.9274970448911259, 'gamma': 0.7220826156659068, 'reg_alpha': 1.7665876201575896, 'reg_lambda': 3.1581870554988694}. Best is trial 13 with value: 803766.2935954165.\n",
      "[I 2025-05-28 22:11:12,068] Trial 18 finished with value: 814082.799073274 and parameters: {'n_estimators': 271, 'max_depth': 7, 'learning_rate': 0.05032245892101475, 'subsample': 0.7649794553891971, 'colsample_bytree': 0.7478066572305242, 'gamma': 1.8673222811338452, 'reg_alpha': 4.092050481212855, 'reg_lambda': 0.9904821350441422}. Best is trial 13 with value: 803766.2935954165.\n",
      "[I 2025-05-28 22:11:19,748] Trial 19 finished with value: 798500.4970416072 and parameters: {'n_estimators': 499, 'max_depth': 4, 'learning_rate': 0.08495912541786511, 'subsample': 0.936404463089549, 'colsample_bytree': 0.8589792018672303, 'gamma': 0.42198612441173955, 'reg_alpha': 3.1672638366057284, 'reg_lambda': 3.4594666096815825}. Best is trial 19 with value: 798500.4970416072.\n",
      "[I 2025-05-28 22:11:27,301] Trial 20 finished with value: 796989.9062762154 and parameters: {'n_estimators': 484, 'max_depth': 4, 'learning_rate': 0.07293477638419217, 'subsample': 0.911573748765059, 'colsample_bytree': 0.9732048972909121, 'gamma': 1.5045968210622789, 'reg_alpha': 3.088205548528974, 'reg_lambda': 3.595771026160106}. Best is trial 20 with value: 796989.9062762154.\n",
      "[I 2025-05-28 22:11:35,373] Trial 21 finished with value: 795008.9349661865 and parameters: {'n_estimators': 494, 'max_depth': 4, 'learning_rate': 0.08001822679499129, 'subsample': 0.908993824486113, 'colsample_bytree': 0.9934794062364312, 'gamma': 1.433857815889707, 'reg_alpha': 3.1108513953725323, 'reg_lambda': 3.811128890324066}. Best is trial 21 with value: 795008.9349661865.\n",
      "[I 2025-05-28 22:11:43,986] Trial 22 finished with value: 795887.6927343301 and parameters: {'n_estimators': 492, 'max_depth': 4, 'learning_rate': 0.07715595418583612, 'subsample': 0.9290324028789357, 'colsample_bytree': 0.995830075767276, 'gamma': 1.6102782634673516, 'reg_alpha': 3.17688115051166, 'reg_lambda': 3.5908049927375023}. Best is trial 21 with value: 795008.9349661865.\n",
      "[I 2025-05-28 22:11:49,848] Trial 23 finished with value: 811790.5100463668 and parameters: {'n_estimators': 448, 'max_depth': 3, 'learning_rate': 0.07371704422264973, 'subsample': 0.910150652200595, 'colsample_bytree': 0.982416391081213, 'gamma': 1.7980286987732013, 'reg_alpha': 4.264309152073412, 'reg_lambda': 4.964758108227349}. Best is trial 21 with value: 795008.9349661865.\n",
      "[I 2025-05-28 22:11:58,241] Trial 24 finished with value: 795938.4484021395 and parameters: {'n_estimators': 494, 'max_depth': 4, 'learning_rate': 0.0811382853217809, 'subsample': 0.8351418695862105, 'colsample_bytree': 0.961497753171942, 'gamma': 1.4255144941472997, 'reg_alpha': 2.186809160259199, 'reg_lambda': 3.69520088014216}. Best is trial 21 with value: 795008.9349661865.\n",
      "[I 2025-05-28 22:12:04,939] Trial 25 finished with value: 798569.7940033989 and parameters: {'n_estimators': 452, 'max_depth': 3, 'learning_rate': 0.12362552535744181, 'subsample': 0.8393110292464016, 'colsample_bytree': 0.952042638024519, 'gamma': 3.1572188466684965, 'reg_alpha': 1.5795752510102576, 'reg_lambda': 2.7813342524971105}. Best is trial 21 with value: 795008.9349661865.\n",
      "[I 2025-05-28 22:12:10,747] Trial 26 finished with value: 799782.9870877343 and parameters: {'n_estimators': 373, 'max_depth': 4, 'learning_rate': 0.08002750899873717, 'subsample': 0.7716627133836929, 'colsample_bytree': 0.9257136901653414, 'gamma': 2.194181208199584, 'reg_alpha': 2.343918106018493, 'reg_lambda': 4.913367284253908}. Best is trial 21 with value: 795008.9349661865.\n",
      "[I 2025-05-28 22:12:18,078] Trial 27 finished with value: 801722.1225068117 and parameters: {'n_estimators': 455, 'max_depth': 4, 'learning_rate': 0.06001828837050469, 'subsample': 0.8502759395643881, 'colsample_bytree': 0.9013845735465041, 'gamma': 1.0607474627748446, 'reg_alpha': 1.967249021904602, 'reg_lambda': 3.460962395198982}. Best is trial 21 with value: 795008.9349661865.\n",
      "[I 2025-05-28 22:12:24,577] Trial 28 finished with value: 865169.9024213791 and parameters: {'n_estimators': 499, 'max_depth': 3, 'learning_rate': 0.03382407689046987, 'subsample': 0.8892580002951203, 'colsample_bytree': 0.998865326938757, 'gamma': 1.458921788738396, 'reg_alpha': 1.30242628629812, 'reg_lambda': 3.8919570440664635}. Best is trial 21 with value: 795008.9349661865.\n",
      "[I 2025-05-28 22:12:29,543] Trial 29 finished with value: 815743.6107365291 and parameters: {'n_estimators': 377, 'max_depth': 3, 'learning_rate': 0.08346141878556962, 'subsample': 0.9452011678572799, 'colsample_bytree': 0.9623796073605749, 'gamma': 0.7691945826644848, 'reg_alpha': 4.893163950607146, 'reg_lambda': 4.568949253845113}. Best is trial 21 with value: 795008.9349661865.\n"
     ]
    },
    {
     "name": "stdout",
     "output_type": "stream",
     "text": [
      "\n",
      "📌 Najlepsze parametry:\n",
      "{'n_estimators': 494, 'max_depth': 4, 'learning_rate': 0.08001822679499129, 'subsample': 0.908993824486113, 'colsample_bytree': 0.9934794062364312, 'gamma': 1.433857815889707, 'reg_alpha': 3.1108513953725323, 'reg_lambda': 3.811128890324066}\n",
      "📉 Najniższe MSE: 795008.93\n"
     ]
    }
   ],
   "source": [
    "import pandas as pd\n",
    "import numpy as np\n",
    "from sklearn.model_selection import train_test_split\n",
    "from sklearn.metrics import mean_squared_error\n",
    "from xgboost import XGBRegressor\n",
    "import optuna\n",
    "\n",
    "full_df['FuelPerPassenger'] = full_df['ActualTotalFuel'] / (full_df['FlownPassengers'] + 1e-5)\n",
    "full_df['BagsWeightPerPassenger'] = full_df['FlightBagsWeight'] / (full_df['FlownPassengers'] + 1e-5)\n",
    "full_df['AvgBagWeight'] = full_df['FlightBagsWeight'] / (full_df['BagsCount'] + 1e-5)\n",
    "full_df['LogFuel'] = np.log1p(full_df['ActualTotalFuel'])\n",
    "full_df['LogPassengers'] = np.log1p(full_df['FlownPassengers'])\n",
    "full_df['LogBagsWeight'] = np.log1p(full_df['FlightBagsWeight'])\n",
    "\n",
    "features = [\n",
    "    'DepartureYear', 'DepartureMonth', 'DepartureDay', 'DayOfWeek',\n",
    "    'ActualFlightTime', 'ActualTotalFuel', 'FlownPassengers',\n",
    "    'BagsCount', 'FlightBagsWeight',\n",
    "    'FuelPerPassenger', 'BagsWeightPerPassenger', 'AvgBagWeight',\n",
    "    'LogFuel', 'LogPassengers', 'LogBagsWeight'\n",
    "]\n",
    "\n",
    "X = full_df[features]\n",
    "y = full_df['ActualTOW']\n",
    "\n",
    "\n",
    "def objective(trial):\n",
    "    params = {\n",
    "        'n_estimators': trial.suggest_int('n_estimators', 100, 500),\n",
    "        'max_depth': trial.suggest_int('max_depth', 3, 10),\n",
    "        'learning_rate': trial.suggest_float('learning_rate', 0.01, 0.2),\n",
    "        'subsample': trial.suggest_float('subsample', 0.6, 1.0),\n",
    "        'colsample_bytree': trial.suggest_float('colsample_bytree', 0.6, 1.0),\n",
    "        'gamma': trial.suggest_float('gamma', 0, 5),\n",
    "        'reg_alpha': trial.suggest_float('reg_alpha', 0, 5),\n",
    "        'reg_lambda': trial.suggest_float('reg_lambda', 0, 5),\n",
    "        'tree_method': 'hist',\n",
    "        'enable_categorical': True,\n",
    "        'random_state': 42,\n",
    "    }\n",
    "\n",
    "    skf = StratifiedKFold(n_splits=5, shuffle=True, random_state=42)\n",
    "    mse_scores = []\n",
    "\n",
    "    y_bins = pd.qcut(y, q=10, duplicates='drop', labels=False)\n",
    "\n",
    "    for train_idx, val_idx in skf.split(X, y_bins):\n",
    "        X_train, X_val = X.iloc[train_idx], X.iloc[val_idx]\n",
    "        y_train, y_val = y.iloc[train_idx], y.iloc[val_idx]\n",
    "\n",
    "        model = XGBRegressor(**params)\n",
    "        model.fit(\n",
    "            X_train, y_train,\n",
    "            eval_set=[(X_val, y_val)],\n",
    "            verbose=False\n",
    "        )\n",
    "\n",
    "\n",
    "        y_pred = model.predict(X_val)\n",
    "        mse = mean_squared_error(y_val, y_pred)\n",
    "        mse_scores.append(mse)\n",
    "\n",
    "    return np.mean(mse_scores)\n",
    "\n",
    "\n",
    "# -------------------------\n",
    "# Uruchomienie Optuny\n",
    "# -------------------------\n",
    "study = optuna.create_study(direction='minimize')\n",
    "study.optimize(objective, n_trials=30)\n",
    "\n",
    "print(\"\\n📌 Najlepsze parametry:\")\n",
    "print(study.best_params)\n",
    "print(f\"📉 Najniższe MSE: {study.best_value:.2f}\")"
   ]
  },
  {
   "cell_type": "code",
   "execution_count": null,
   "id": "afb48981",
   "metadata": {},
   "outputs": [],
   "source": [
    "Najlepsze parametry:\n",
    "{'n_estimators': 411, 'max_depth': 5, 'learning_rate': 0.07502314337610583, 'subsample': 0.8590781412062897, 'colsample_bytree': 0.8523982747742388, 'gamma': 0.11062947175871786, 'reg_alpha': 2.1276494541663147, 'reg_lambda': 4.8181391597355905}\n",
    "📉 Najniższe MSE: 803392.01"
   ]
  },
  {
   "cell_type": "code",
   "execution_count": null,
   "id": "3318f067",
   "metadata": {},
   "outputs": [],
   "source": []
  },
  {
   "cell_type": "code",
   "execution_count": null,
   "id": "ae53919c",
   "metadata": {},
   "outputs": [],
   "source": []
  },
  {
   "cell_type": "code",
   "execution_count": 8,
   "id": "b20c7c8a",
   "metadata": {},
   "outputs": [
    {
     "data": {
      "text/html": [
       "<style>#sk-container-id-1 {color: black;background-color: white;}#sk-container-id-1 pre{padding: 0;}#sk-container-id-1 div.sk-toggleable {background-color: white;}#sk-container-id-1 label.sk-toggleable__label {cursor: pointer;display: block;width: 100%;margin-bottom: 0;padding: 0.3em;box-sizing: border-box;text-align: center;}#sk-container-id-1 label.sk-toggleable__label-arrow:before {content: \"▸\";float: left;margin-right: 0.25em;color: #696969;}#sk-container-id-1 label.sk-toggleable__label-arrow:hover:before {color: black;}#sk-container-id-1 div.sk-estimator:hover label.sk-toggleable__label-arrow:before {color: black;}#sk-container-id-1 div.sk-toggleable__content {max-height: 0;max-width: 0;overflow: hidden;text-align: left;background-color: #f0f8ff;}#sk-container-id-1 div.sk-toggleable__content pre {margin: 0.2em;color: black;border-radius: 0.25em;background-color: #f0f8ff;}#sk-container-id-1 input.sk-toggleable__control:checked~div.sk-toggleable__content {max-height: 200px;max-width: 100%;overflow: auto;}#sk-container-id-1 input.sk-toggleable__control:checked~label.sk-toggleable__label-arrow:before {content: \"▾\";}#sk-container-id-1 div.sk-estimator input.sk-toggleable__control:checked~label.sk-toggleable__label {background-color: #d4ebff;}#sk-container-id-1 div.sk-label input.sk-toggleable__control:checked~label.sk-toggleable__label {background-color: #d4ebff;}#sk-container-id-1 input.sk-hidden--visually {border: 0;clip: rect(1px 1px 1px 1px);clip: rect(1px, 1px, 1px, 1px);height: 1px;margin: -1px;overflow: hidden;padding: 0;position: absolute;width: 1px;}#sk-container-id-1 div.sk-estimator {font-family: monospace;background-color: #f0f8ff;border: 1px dotted black;border-radius: 0.25em;box-sizing: border-box;margin-bottom: 0.5em;}#sk-container-id-1 div.sk-estimator:hover {background-color: #d4ebff;}#sk-container-id-1 div.sk-parallel-item::after {content: \"\";width: 100%;border-bottom: 1px solid gray;flex-grow: 1;}#sk-container-id-1 div.sk-label:hover label.sk-toggleable__label {background-color: #d4ebff;}#sk-container-id-1 div.sk-serial::before {content: \"\";position: absolute;border-left: 1px solid gray;box-sizing: border-box;top: 0;bottom: 0;left: 50%;z-index: 0;}#sk-container-id-1 div.sk-serial {display: flex;flex-direction: column;align-items: center;background-color: white;padding-right: 0.2em;padding-left: 0.2em;position: relative;}#sk-container-id-1 div.sk-item {position: relative;z-index: 1;}#sk-container-id-1 div.sk-parallel {display: flex;align-items: stretch;justify-content: center;background-color: white;position: relative;}#sk-container-id-1 div.sk-item::before, #sk-container-id-1 div.sk-parallel-item::before {content: \"\";position: absolute;border-left: 1px solid gray;box-sizing: border-box;top: 0;bottom: 0;left: 50%;z-index: -1;}#sk-container-id-1 div.sk-parallel-item {display: flex;flex-direction: column;z-index: 1;position: relative;background-color: white;}#sk-container-id-1 div.sk-parallel-item:first-child::after {align-self: flex-end;width: 50%;}#sk-container-id-1 div.sk-parallel-item:last-child::after {align-self: flex-start;width: 50%;}#sk-container-id-1 div.sk-parallel-item:only-child::after {width: 0;}#sk-container-id-1 div.sk-dashed-wrapped {border: 1px dashed gray;margin: 0 0.4em 0.5em 0.4em;box-sizing: border-box;padding-bottom: 0.4em;background-color: white;}#sk-container-id-1 div.sk-label label {font-family: monospace;font-weight: bold;display: inline-block;line-height: 1.2em;}#sk-container-id-1 div.sk-label-container {text-align: center;}#sk-container-id-1 div.sk-container {/* jupyter's `normalize.less` sets `[hidden] { display: none; }` but bootstrap.min.css set `[hidden] { display: none !important; }` so we also need the `!important` here to be able to override the default hidden behavior on the sphinx rendered scikit-learn.org. See: https://github.com/scikit-learn/scikit-learn/issues/21755 */display: inline-block !important;position: relative;}#sk-container-id-1 div.sk-text-repr-fallback {display: none;}</style><div id=\"sk-container-id-1\" class=\"sk-top-container\"><div class=\"sk-text-repr-fallback\"><pre>RandomForestRegressor(random_state=42)</pre><b>In a Jupyter environment, please rerun this cell to show the HTML representation or trust the notebook. <br />On GitHub, the HTML representation is unable to render, please try loading this page with nbviewer.org.</b></div><div class=\"sk-container\" hidden><div class=\"sk-item\"><div class=\"sk-estimator sk-toggleable\"><input class=\"sk-toggleable__control sk-hidden--visually\" id=\"sk-estimator-id-1\" type=\"checkbox\" checked><label for=\"sk-estimator-id-1\" class=\"sk-toggleable__label sk-toggleable__label-arrow\">RandomForestRegressor</label><div class=\"sk-toggleable__content\"><pre>RandomForestRegressor(random_state=42)</pre></div></div></div></div></div>"
      ],
      "text/plain": [
       "RandomForestRegressor(random_state=42)"
      ]
     },
     "execution_count": 8,
     "metadata": {},
     "output_type": "execute_result"
    }
   ],
   "source": [
    "from sklearn.ensemble import RandomForestRegressor\n",
    "\n",
    "model = RandomForestRegressor(n_estimators=100, random_state=42)\n",
    "model.fit(X_train, y_train)"
   ]
  },
  {
   "cell_type": "code",
   "execution_count": 10,
   "id": "474a410b",
   "metadata": {},
   "outputs": [],
   "source": [
    "from sklearn.impute import SimpleImputer\n",
    "\n",
    "# Uzupełnianie braków medianą\n",
    "imputer = SimpleImputer(strategy=\"median\")\n",
    "X_val_imputed = imputer.fit_transform(X_val)\n"
   ]
  },
  {
   "cell_type": "code",
   "execution_count": 11,
   "id": "aed027c3",
   "metadata": {},
   "outputs": [
    {
     "name": "stderr",
     "output_type": "stream",
     "text": [
      "c:\\Users\\Natalia\\AppData\\Local\\Programs\\Python\\Python310\\lib\\site-packages\\sklearn\\base.py:450: UserWarning: X does not have valid feature names, but RandomForestRegressor was fitted with feature names\n",
      "  warnings.warn(\n"
     ]
    }
   ],
   "source": [
    "y_pred = model.predict(X_val_imputed)"
   ]
  },
  {
   "cell_type": "code",
   "execution_count": 12,
   "id": "cb1d4e4d",
   "metadata": {},
   "outputs": [],
   "source": [
    "# Stworzenie dataframe'u z przewidywaniami\n",
    "output = validation_df.copy()\n",
    "output['PredictedTOW'] = y_pred\n",
    "\n",
    "# Zapisz tylko potrzebne kolumny\n",
    "output[['DepartureDate', 'FlightNumber', 'PredictedTOW']].to_csv(\"predictions.csv\", index=False)"
   ]
  }
 ],
 "metadata": {
  "kernelspec": {
   "display_name": "Python 3",
   "language": "python",
   "name": "python3"
  },
  "language_info": {
   "codemirror_mode": {
    "name": "ipython",
    "version": 3
   },
   "file_extension": ".py",
   "mimetype": "text/x-python",
   "name": "python",
   "nbconvert_exporter": "python",
   "pygments_lexer": "ipython3",
   "version": "3.10.0"
  }
 },
 "nbformat": 4,
 "nbformat_minor": 5
}
